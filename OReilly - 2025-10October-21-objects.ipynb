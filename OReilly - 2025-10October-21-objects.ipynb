{
 "cells": [
  {
   "cell_type": "markdown",
   "metadata": {},
   "source": [
    "# Agenda, day 2\n",
    "\n",
    "1. Recap and Q&A\n",
    "2. Magic methods / \"dunder\" methods\n",
    "3. Class attributes\n",
    "4. Finding attributes with ICPO\n",
    "5. Inheritance -- what it is, and how ICPO influences it\n",
    "6. Three models for method inheritance\n",
    "7. Data inheritance\n",
    "8. What next?"
   ]
  },
  {
   "cell_type": "markdown",
   "metadata": {},
   "source": [
    "# Recap\n",
    "\n",
    "How do we solve problems? It's easiest if we can use a data structure that is appropriate for solving that problem. Objects allow us to create a data structure that is specifically designed to solve a problem. Even though we might be using ints, strings, lists, and dicts to implement our object, the fact that we can think about it at a higher level makes it easier to work with.\n",
    "\n",
    "The whole idea of object-oriented programming is thus: Create new data structures, along with methods, that together make it easier to think about and use these structures and thus solve our problems.\n",
    "\n",
    "1. Methods are defined as part of the class body. And actually, methods are attributes on the class. However, we invoke them via the instance, and Python does a little magical substitution, turning the instance into the first argument passed to the method.\n",
    "2. The first parameter in every method is traditionally called `self`, and gets that instance assigned to it.\n",
    "3. If you try to invoke a method that doesn't exist, you'll get an \"attribute error,\" with Python telling you that the method doesn't exist.\n",
    "4. We define new \"classes,\" factories for our data structures. We start the class definition with the reserved word `class`, then the name we want to give it, and then any number of methods that we might want to invoke on our data.\n",
    "5. If we have a `Person` class, then it creates *instances* of `Person`. Every object has a `type`, and we can invoke `type()` on it to find out its class. In this way, `class` and `type` are two ways to say the same thing.\n",
    "6. The most important method in a class is `__init__`, the initializer. (We pronounce it \"dunder init,\" because it has a double underscore before and after the word \"init.\") Its job is to add attributes to a new object after that object is created, but before it's returned to the caller. Typically, we'll assign many attributes based on parameters, but we can add fewer or more, depending on what we want to do. In theory, you can add attributes to an object whenever you want... but it's a good idea to only add new attributes in `__init__`, for easier maintenance.\n",
    "7. Each time we invoke a method on an instance, the first argument is the instance itself, and is assigned to `self`. You can use another word instead of `self`, and if you forget to make `self` the first parameter, then whatever is the first parameter will get the instance assigned to it. But you really should use `self`.\n",
    "8. Python doesn't have protected or private status for attributes. (Other languages do, and they call attributes \"instance variables\" when they're set on `self`.) Whereas other languages have getters and setters so that people don't access those values directly, Python *encourages* us to use them directly!\n",
    "   "
   ]
  },
  {
   "cell_type": "code",
   "execution_count": 1,
   "metadata": {},
   "outputs": [],
   "source": [
    "class Person:\n",
    "    def __init__(self, name, shoe_size):\n",
    "        self.name = name\n",
    "        self.shoe_size = shoe_size\n",
    "        self.bank_balance = 0   # attribute that I set, with a default/starter value, without any connection to a parameter\n",
    "\n",
    "    def greet(self):\n",
    "        return f'Hello, {self.name}!'  # if I just say \"name\", and not \"self.name\", then Python will not find my attribute\n",
    "\n",
    "p = Person('Reuven', 46)    "
   ]
  },
  {
   "cell_type": "code",
   "execution_count": 2,
   "metadata": {},
   "outputs": [
    {
     "data": {
      "text/plain": [
       "'Hello, Reuven!'"
      ]
     },
     "execution_count": 2,
     "metadata": {},
     "output_type": "execute_result"
    }
   ],
   "source": [
    "p.greet()   # the same as Person.greet(p)"
   ]
  },
  {
   "cell_type": "code",
   "execution_count": 3,
   "metadata": {},
   "outputs": [
    {
     "data": {
      "text/plain": [
       "'Hello, Reuven!'"
      ]
     },
     "execution_count": 3,
     "metadata": {},
     "output_type": "execute_result"
    }
   ],
   "source": [
    "Person.greet(p)"
   ]
  },
  {
   "cell_type": "code",
   "execution_count": 4,
   "metadata": {},
   "outputs": [
    {
     "data": {
      "text/plain": [
       "'Reuven'"
      ]
     },
     "execution_count": 4,
     "metadata": {},
     "output_type": "execute_result"
    }
   ],
   "source": [
    "p.name"
   ]
  },
  {
   "cell_type": "code",
   "execution_count": 5,
   "metadata": {},
   "outputs": [],
   "source": [
    "p.name = 'whatever'"
   ]
  },
  {
   "cell_type": "code",
   "execution_count": 6,
   "metadata": {},
   "outputs": [
    {
     "data": {
      "text/plain": [
       "'whatever'"
      ]
     },
     "execution_count": 6,
     "metadata": {},
     "output_type": "execute_result"
    }
   ],
   "source": [
    "p.name"
   ]
  },
  {
   "cell_type": "code",
   "execution_count": 7,
   "metadata": {},
   "outputs": [
    {
     "data": {
      "text/plain": [
       "'Hello, whatever!'"
      ]
     },
     "execution_count": 7,
     "metadata": {},
     "output_type": "execute_result"
    }
   ],
   "source": [
    "p.greet()"
   ]
  },
  {
   "cell_type": "code",
   "execution_count": 8,
   "metadata": {},
   "outputs": [
    {
     "data": {
      "text/plain": [
       "0"
      ]
     },
     "execution_count": 8,
     "metadata": {},
     "output_type": "execute_result"
    }
   ],
   "source": [
    "p.bank_balance"
   ]
  },
  {
   "cell_type": "markdown",
   "metadata": {},
   "source": [
    "# Exercise: Cellphone\n",
    "\n",
    "1. Define a `Cellphone` class. Each instance will have two attributes:\n",
    "    - `number`\n",
    "    - `model`\n",
    "2. You should be able to invoke the `call` method on an instance of `Cellphone. It'll return a string saying, \"Calling\" and then print the number that is calling. You'll have to provide an argument, the number to call."
   ]
  },
  {
   "cell_type": "code",
   "execution_count": 14,
   "metadata": {},
   "outputs": [
    {
     "data": {
      "text/plain": [
       "'Phone 12345 is calling 2468'"
      ]
     },
     "execution_count": 14,
     "metadata": {},
     "output_type": "execute_result"
    }
   ],
   "source": [
    "class Cellphone:\n",
    "    def __init__(self, number, model):\n",
    "        self.number = number\n",
    "        self.model = model\n",
    "\n",
    "    def call(self, other_number):\n",
    "        return f'Phone {self.number} is calling {other_number}'\n",
    "\n",
    "c1 = Cellphone(12345, 'iPhone')\n",
    "c2 = Cellphone(67890, 'Android')\n",
    "\n",
    "c1.call(2468)"
   ]
  },
  {
   "cell_type": "code",
   "execution_count": 15,
   "metadata": {},
   "outputs": [
    {
     "data": {
      "text/plain": [
       "'Phone 67890 is calling 12345'"
      ]
     },
     "execution_count": 15,
     "metadata": {},
     "output_type": "execute_result"
    }
   ],
   "source": [
    "c2.call(c1.number)  "
   ]
  },
  {
   "cell_type": "code",
   "execution_count": 10,
   "metadata": {},
   "outputs": [
    {
     "data": {
      "text/plain": [
       "__main__.Cellphone"
      ]
     },
     "execution_count": 10,
     "metadata": {},
     "output_type": "execute_result"
    }
   ],
   "source": [
    "type(c1)"
   ]
  },
  {
   "cell_type": "code",
   "execution_count": 11,
   "metadata": {},
   "outputs": [
    {
     "data": {
      "text/plain": [
       "{'number': 12345, 'model': 'iPhone'}"
      ]
     },
     "execution_count": 11,
     "metadata": {},
     "output_type": "execute_result"
    }
   ],
   "source": [
    "vars(c1)"
   ]
  },
  {
   "cell_type": "code",
   "execution_count": 12,
   "metadata": {},
   "outputs": [
    {
     "data": {
      "text/plain": [
       "__main__.Cellphone"
      ]
     },
     "execution_count": 12,
     "metadata": {},
     "output_type": "execute_result"
    }
   ],
   "source": [
    "type(c2)"
   ]
  },
  {
   "cell_type": "code",
   "execution_count": 13,
   "metadata": {},
   "outputs": [
    {
     "data": {
      "text/plain": [
       "{'number': 67890, 'model': 'Android'}"
      ]
     },
     "execution_count": 13,
     "metadata": {},
     "output_type": "execute_result"
    }
   ],
   "source": [
    "vars(c2)"
   ]
  },
  {
   "cell_type": "code",
   "execution_count": 16,
   "metadata": {},
   "outputs": [
    {
     "name": "stdout",
     "output_type": "stream",
     "text": [
      "<__main__.Cellphone object at 0x108a73620>\n"
     ]
    }
   ],
   "source": [
    "# what happens if I print my cellphones?\n",
    "\n",
    "print(c1)"
   ]
  },
  {
   "cell_type": "code",
   "execution_count": 17,
   "metadata": {},
   "outputs": [
    {
     "name": "stdout",
     "output_type": "stream",
     "text": [
      "<__main__.Cellphone object at 0x108a9f250>\n"
     ]
    }
   ],
   "source": [
    "print(c2)"
   ]
  },
  {
   "cell_type": "markdown",
   "metadata": {},
   "source": [
    "# Magic methods\n",
    "\n",
    "When we perform certain operations in Python, behind the scenes, the operator is translated into a method call. For example, when we compare values with `==`, there's really a method that is being invoked.\n",
    "\n",
    "Every operator that you can think of, plus many you probably cannot, are all implemented using methods.\n",
    "\n",
    "The thing is, these methods don't always need to be defined. And you probably shoudn't be invoking them on your own very often. Plus, if we define these methods, then we really change the way that our objects work, because Python sees the method and uses it .\n",
    "\n",
    "For all of these reasons, these special methods, known as \"magic methods,\" have special names. All of their names are \"dunders,\" meaning that they start and end with a double underscore, `__`. (That's not `_`, but rather `__` both before and after the method name.)\n",
    "\n",
    "I want to show you some magic methods now, and we'll use them in a number of classes.\n",
    "\n",
    "It's typical to implement a number of these methods. Also, new Python functionality is generally implemented by adding new dunder methods.\n",
    "\n",
    "You should *not* name a method with dunders unless you know what you're doing! You might get yourself into trouble, either now or down the road if/when Python uses that name."
   ]
  },
  {
   "cell_type": "markdown",
   "metadata": {},
   "source": [
    "# Simple magic method: `__len__`\n",
    "\n",
    "When you call `len` (the function) on an object, it in turn looks for the `__len__` method on that object.\n",
    "\n"
   ]
  },
  {
   "cell_type": "code",
   "execution_count": 18,
   "metadata": {},
   "outputs": [
    {
     "data": {
      "text/plain": [
       "4"
      ]
     },
     "execution_count": 18,
     "metadata": {},
     "output_type": "execute_result"
    }
   ],
   "source": [
    "len('abcd')"
   ]
  },
  {
   "cell_type": "code",
   "execution_count": 19,
   "metadata": {},
   "outputs": [
    {
     "ename": "TypeError",
     "evalue": "object of type 'int' has no len()",
     "output_type": "error",
     "traceback": [
      "\u001b[31m---------------------------------------------------------------------------\u001b[39m",
      "\u001b[31mTypeError\u001b[39m                                 Traceback (most recent call last)",
      "\u001b[36mCell\u001b[39m\u001b[36m \u001b[39m\u001b[32mIn[19]\u001b[39m\u001b[32m, line 1\u001b[39m\n\u001b[32m----> \u001b[39m\u001b[32m1\u001b[39m \u001b[38;5;28;43mlen\u001b[39;49m\u001b[43m(\u001b[49m\u001b[32;43m1234\u001b[39;49m\u001b[43m)\u001b[49m\n",
      "\u001b[31mTypeError\u001b[39m: object of type 'int' has no len()"
     ]
    }
   ],
   "source": [
    "len(1234)"
   ]
  },
  {
   "cell_type": "code",
   "execution_count": 20,
   "metadata": {},
   "outputs": [
    {
     "ename": "TypeError",
     "evalue": "object of type 'Person' has no len()",
     "output_type": "error",
     "traceback": [
      "\u001b[31m---------------------------------------------------------------------------\u001b[39m",
      "\u001b[31mTypeError\u001b[39m                                 Traceback (most recent call last)",
      "\u001b[36mCell\u001b[39m\u001b[36m \u001b[39m\u001b[32mIn[20]\u001b[39m\u001b[32m, line 7\u001b[39m\n\u001b[32m      3\u001b[39m         \u001b[38;5;28mself\u001b[39m.name = name\n\u001b[32m      5\u001b[39m p = Person(\u001b[33m'\u001b[39m\u001b[33mReuven\u001b[39m\u001b[33m'\u001b[39m)\n\u001b[32m----> \u001b[39m\u001b[32m7\u001b[39m \u001b[38;5;28;43mlen\u001b[39;49m\u001b[43m(\u001b[49m\u001b[43mp\u001b[49m\u001b[43m)\u001b[49m\n",
      "\u001b[31mTypeError\u001b[39m: object of type 'Person' has no len()"
     ]
    }
   ],
   "source": [
    "class Person:\n",
    "    def __init__(self, name):\n",
    "        self.name = name\n",
    "\n",
    "p = Person('Reuven')\n",
    "\n",
    "len(p)"
   ]
  },
  {
   "cell_type": "code",
   "execution_count": 21,
   "metadata": {},
   "outputs": [
    {
     "data": {
      "text/plain": [
       "6"
      ]
     },
     "execution_count": 21,
     "metadata": {},
     "output_type": "execute_result"
    }
   ],
   "source": [
    "# I'm going to add a __len__ method that returns the length of the name\n",
    "\n",
    "class Person:\n",
    "    def __init__(self, name):\n",
    "        self.name = name\n",
    "    def __len__(self):\n",
    "        return len(self.name)\n",
    "\n",
    "p = Person('Reuven')\n",
    "\n",
    "len(p)"
   ]
  },
  {
   "cell_type": "markdown",
   "metadata": {},
   "source": [
    "# What happened?\n",
    "\n",
    "1. I invoked `len(p)`\n",
    "2. This was translated into `p.__len__()` by Python\n",
    "3. Because `__len__` is defined on `Person`, it ran and its return value was returned to the caller."
   ]
  },
  {
   "cell_type": "markdown",
   "metadata": {},
   "source": [
    "# Exercise: How many scoops?\n",
    "\n",
    "1. Yesterday, we defined both `Scoop` and `Bowl`. Any instance of `Bowl` has a `scoops` attribute, a list of `Scoop` instances.\n",
    "2. Add the capability to invoke `len` on an instance of `Bowl`. That'll return the number of scoops in the bowl.\n",
    "3. After doing so, test that it works -- call `len` on a `Bowl`, then add a new `Scoop`, then measure again."
   ]
  },
  {
   "cell_type": "code",
   "execution_count": 24,
   "metadata": {},
   "outputs": [
    {
     "name": "stdout",
     "output_type": "stream",
     "text": [
      "['chocolate', 'vanilla', 'coffee']\n",
      "3\n"
     ]
    }
   ],
   "source": [
    "class Scoop:\n",
    "    def __init__(self, flavor):\n",
    "        self.flavor = flavor\n",
    "\n",
    "s1 = Scoop('chocolate')\n",
    "s2 = Scoop('vanilla')\n",
    "s3 = Scoop('coffee')\n",
    "    \n",
    "class Bowl:\n",
    "    def __init__(self):\n",
    "        self.scoops = []\n",
    "\n",
    "    def add_scoop(self, new_scoop):\n",
    "        self.scoops.append(new_scoop)\n",
    "\n",
    "    def add_scoops(self, *new_scoops):\n",
    "        for one_scoop in new_scoops:    # iterate over the list of scoops\n",
    "            self.add_scoop(one_scoop)   # invoke self.add_scoop for each one, one at a time\n",
    "\n",
    "    def flavors(self):\n",
    "        output = []\n",
    "\n",
    "        for one_scoop in self.scoops:\n",
    "            output.append(one_scoop.flavor)\n",
    "\n",
    "        return output\n",
    "\n",
    "    def __len__(self):\n",
    "        return len(self.scoops)\n",
    "\n",
    "b = Bowl()   \n",
    "b.add_scoops(s1, s2, s3)   # removed square brackets, so we're invoking it with 3 arguments\n",
    "list_of_flavors = b.flavors()\n",
    "print(list_of_flavors)     # print forwards\n",
    "\n",
    "print(len(b))"
   ]
  },
  {
   "cell_type": "code",
   "execution_count": 25,
   "metadata": {},
   "outputs": [],
   "source": [
    "s = 'abcde'"
   ]
  },
  {
   "cell_type": "code",
   "execution_count": null,
   "metadata": {},
   "outputs": [],
   "source": []
  },
  {
   "cell_type": "code",
   "execution_count": 26,
   "metadata": {},
   "outputs": [
    {
     "data": {
      "text/plain": [
       "5"
      ]
     },
     "execution_count": 26,
     "metadata": {},
     "output_type": "execute_result"
    }
   ],
   "source": [
    "s.__len__()  # don't do this, but *can* you?"
   ]
  },
  {
   "cell_type": "markdown",
   "metadata": {},
   "source": [
    "# Warning:\n",
    "\n",
    "Make sure that you spell the magic methods correctly!\n",
    "\n",
    "I've often seen people accidentally write `__int__` instead of `__init__`. That is the magic method that is invoked when you want to turn a value into an integer, when you invoke `int()` on it! "
   ]
  },
  {
   "cell_type": "markdown",
   "metadata": {},
   "source": []
  },
  {
   "cell_type": "markdown",
   "metadata": {},
   "source": [
    "# Next up:\n",
    "\n",
    "1. Methods for `__str__` and `__repr__`\n",
    "2. A handful of other magic methods, as well"
   ]
  },
  {
   "cell_type": "markdown",
   "metadata": {},
   "source": [
    "# Printing our objects\n",
    "\n",
    "If we try to print our cellphone or scoop or bowl objects, we find that they are super ugly."
   ]
  },
  {
   "cell_type": "code",
   "execution_count": 27,
   "metadata": {},
   "outputs": [
    {
     "name": "stdout",
     "output_type": "stream",
     "text": [
      "<__main__.Person object at 0x108a734d0>\n"
     ]
    }
   ],
   "source": [
    "print(p)  # Person"
   ]
  },
  {
   "cell_type": "code",
   "execution_count": 28,
   "metadata": {},
   "outputs": [
    {
     "name": "stdout",
     "output_type": "stream",
     "text": [
      "<__main__.Cellphone object at 0x108a73620>\n"
     ]
    }
   ],
   "source": [
    "print(c1)"
   ]
  },
  {
   "cell_type": "code",
   "execution_count": 29,
   "metadata": {},
   "outputs": [
    {
     "name": "stdout",
     "output_type": "stream",
     "text": [
      "<__main__.Cellphone object at 0x108a9f250>\n"
     ]
    }
   ],
   "source": [
    "print(c2)"
   ]
  },
  {
   "cell_type": "markdown",
   "metadata": {},
   "source": [
    "What's happening here?\n",
    "\n",
    "We can actually use `print` on any object in Python. That's because `print` invokes `str` on whatever it's going to print. And everything in Python knows how to turn itself into a string.\n",
    "\n",
    "How does the object know how to turn itself into a string? Because there is a default implementation of the `__str__` method that is shared by all objects. If we do nothing, then every object that doesn't have a special way to display itself will use this ugly way.\n",
    "\n",
    "But this also explains what we can do to change things: If we implement `__str__` on our object, then our method will be invoked instead of the default, and then we can customize what string is returned. Note that `__str__` *must* return a string! But the string you do return can be anything at all."
   ]
  },
  {
   "cell_type": "code",
   "execution_count": 33,
   "metadata": {},
   "outputs": [
    {
     "name": "stdout",
     "output_type": "stream",
     "text": [
      "Person with name = Reuven!\n"
     ]
    }
   ],
   "source": [
    "class Person:\n",
    "    def __init__(self, name):\n",
    "        self.name = name\n",
    "    def __len__(self):\n",
    "        return len(self.name)\n",
    "    def __str__(self):\n",
    "        return f'Person with name = {self.name}!'\n",
    "\n",
    "p = Person('Reuven')\n",
    "print(p)  # -> print(str(p)) -> print(p.__str__())"
   ]
  },
  {
   "cell_type": "code",
   "execution_count": 34,
   "metadata": {},
   "outputs": [
    {
     "data": {
      "text/plain": [
       "'Person with name = Reuven!'"
      ]
     },
     "execution_count": 34,
     "metadata": {},
     "output_type": "execute_result"
    }
   ],
   "source": [
    "str(p)  # invoke str on p, what do I get back?"
   ]
  },
  {
   "cell_type": "markdown",
   "metadata": {},
   "source": [
    "# Exercise: Printable scoops\n",
    "\n",
    "1. Modify the `Scoop` class such that printing a scoop gives us a string, \"Scoop of FLAVOR\".\n",
    "2. Make sure that this works by printing a number of scoops.\n"
   ]
  },
  {
   "cell_type": "code",
   "execution_count": 36,
   "metadata": {},
   "outputs": [
    {
     "name": "stdout",
     "output_type": "stream",
     "text": [
      "['chocolate', 'vanilla', 'coffee']\n",
      "3\n",
      "Scoop of chocolate\n",
      "Scoop of vanilla\n",
      "Scoop of coffee\n"
     ]
    }
   ],
   "source": [
    "class Scoop:\n",
    "    def __init__(self, flavor):\n",
    "        self.flavor = flavor\n",
    "    def __str__(self):\n",
    "        return f'Scoop of {self.flavor}'\n",
    "\n",
    "s1 = Scoop('chocolate')\n",
    "s2 = Scoop('vanilla')\n",
    "s3 = Scoop('coffee')\n",
    "    \n",
    "class Bowl:\n",
    "    def __init__(self):\n",
    "        self.scoops = []\n",
    "\n",
    "    def add_scoop(self, new_scoop):\n",
    "        self.scoops.append(new_scoop)\n",
    "\n",
    "    def add_scoops(self, *new_scoops):\n",
    "        for one_scoop in new_scoops:    # iterate over the list of scoops\n",
    "            self.add_scoop(one_scoop)   # invoke self.add_scoop for each one, one at a time\n",
    "\n",
    "    def flavors(self):\n",
    "        output = []\n",
    "\n",
    "        for one_scoop in self.scoops:\n",
    "            output.append(one_scoop.flavor)\n",
    "\n",
    "        return output\n",
    "\n",
    "    def __len__(self):\n",
    "        return len(self.scoops)\n",
    "\n",
    "b = Bowl()   \n",
    "b.add_scoops(s1, s2, s3)   # removed square brackets, so we're invoking it with 3 arguments\n",
    "list_of_flavors = b.flavors()\n",
    "print(list_of_flavors)     # print forwards\n",
    "\n",
    "print(len(b))\n",
    "\n",
    "print(s1)  \n",
    "print(s2)\n",
    "print(s3)"
   ]
  },
  {
   "cell_type": "markdown",
   "metadata": {},
   "source": [
    "# Exercise: Printable *bowls*\n",
    "\n",
    "1. Now I want you to make it possible to say `print(b)`, where `b` is an instance of `Bowl`. Doing so should display \"Bowl with:\" and then each of the scoops on a line by itself.\n",
    "2. (If you can number the scoops, even better, but don't worry about it too much.)\n",
    "3. The printout for each of the scoops can be the result of invoking `str(a_scoop)`."
   ]
  },
  {
   "cell_type": "code",
   "execution_count": 45,
   "metadata": {},
   "outputs": [
    {
     "name": "stdout",
     "output_type": "stream",
     "text": [
      "['chocolate', 'vanilla', 'coffee']\n",
      "3\n",
      "Scoop of chocolate\n",
      "Scoop of vanilla\n",
      "Scoop of coffee\n",
      "*** Now printing the bowl ***\n",
      "Bowl of: \n",
      "\t1: Scoop of chocolate\n",
      "\t2: Scoop of vanilla\n",
      "\t3: Scoop of coffee\n"
     ]
    }
   ],
   "source": [
    "class Scoop:\n",
    "    def __init__(self, flavor):\n",
    "        self.flavor = flavor\n",
    "    def __str__(self):\n",
    "        return f'Scoop of {self.flavor}'\n",
    "\n",
    "s1 = Scoop('chocolate')\n",
    "s2 = Scoop('vanilla')\n",
    "s3 = Scoop('coffee')\n",
    "    \n",
    "class Bowl:\n",
    "    def __init__(self):\n",
    "        self.scoops = []\n",
    "\n",
    "    def add_scoop(self, new_scoop):\n",
    "        self.scoops.append(new_scoop)\n",
    "\n",
    "    def add_scoops(self, *new_scoops):\n",
    "        for one_scoop in new_scoops:    # iterate over the list of scoops\n",
    "            self.add_scoop(one_scoop)   # invoke self.add_scoop for each one, one at a time\n",
    "\n",
    "    def flavors(self):\n",
    "        output = []\n",
    "\n",
    "        for one_scoop in self.scoops:\n",
    "            output.append(one_scoop.flavor)\n",
    "\n",
    "        return output\n",
    "\n",
    "    def __len__(self):\n",
    "        return len(self.scoops)\n",
    "\n",
    "    def __str__(self):\n",
    "        output = 'Bowl of: \\n'\n",
    "\n",
    "        # for index, one_scoop in enumerate(self.scoops, 1):\n",
    "        #     output += f'\\t{index}: {one_scoop}\\n'\n",
    "        \n",
    "        return output + '\\n'.join([f'\\t{index}: {one_scoop}'\n",
    "                   for index, one_scoop in enumerate(self.scoops, 1)])\n",
    "\n",
    "b = Bowl()   \n",
    "b.add_scoops(s1, s2, s3)   # removed square brackets, so we're invoking it with 3 arguments\n",
    "list_of_flavors = b.flavors()\n",
    "\n",
    "print(list_of_flavors)     # print forwards\n",
    "\n",
    "print(len(b))\n",
    "\n",
    "print(s1)  \n",
    "print(s2)\n",
    "print(s3)\n",
    "\n",
    "print('*** Now printing the bowl ***')\n",
    "print(b)  "
   ]
  },
  {
   "cell_type": "code",
   "execution_count": 46,
   "metadata": {},
   "outputs": [
    {
     "data": {
      "text/plain": [
       "[<__main__.Scoop at 0x108ad4ec0>,\n",
       " <__main__.Scoop at 0x10fdfefd0>,\n",
       " <__main__.Scoop at 0x10fdff4d0>]"
      ]
     },
     "execution_count": 46,
     "metadata": {},
     "output_type": "execute_result"
    }
   ],
   "source": [
    "# remember that we can look directly at b.scoops!\n",
    "# what happens now that we have implemented __str__ on Scoop? \n",
    "\n",
    "b.scoops"
   ]
  },
  {
   "cell_type": "code",
   "execution_count": 47,
   "metadata": {},
   "outputs": [
    {
     "name": "stdout",
     "output_type": "stream",
     "text": [
      "[<__main__.Scoop object at 0x108ad4ec0>, <__main__.Scoop object at 0x10fdfefd0>, <__main__.Scoop object at 0x10fdff4d0>]\n"
     ]
    }
   ],
   "source": [
    "print(b.scoops)"
   ]
  },
  {
   "cell_type": "markdown",
   "metadata": {},
   "source": [
    "# `__str__` and `__repr__`\n",
    "\n",
    "It turns out that there are *two* ways to turn a Python object into a string:\n",
    "\n",
    "- `__str__` is the method used when we invoke `print` or `str` on an object. `__str__` is supposed to return a string that is for public consumption, for the end user to view.\n",
    "- `__repr__` is the method used when an object should be turned into a string for programmers, debuggers, and other people maintaining the code who want to see more of the internals.\n",
    "\n",
    "When we defined `__str__` on `Scoop`, we still left the default of `__repr__`, which is used in Jupyter and debuggers when we print a list, and the list contains `Scoop` objects.\n",
    "\n",
    "We could:\n",
    "\n",
    "1. Define `__repr__` as well, perhaps even to be the same as `__str__`.\n",
    "2. We could not define `__str__`, and instead define `__repr__`. In such a case, then `__repr__` is used for both itself and `__str__`.\n",
    "\n",
    "Officially, \n",
    "\n",
    "- `__str__` is for end users.\n",
    "- `__repr__` is for programmers.\n",
    "\n",
    "If you don't define `__str__` but do define `__repr__`, then it handles both cases. I normally do that; I don't define `__str__` but I do define `__repr__`. If and when I want end users to see something specific to them, I add `__str__` later on, which doesn't have the \"internal\" information."
   ]
  },
  {
   "cell_type": "code",
   "execution_count": 48,
   "metadata": {},
   "outputs": [
    {
     "name": "stdout",
     "output_type": "stream",
     "text": [
      "['chocolate', 'vanilla', 'coffee']\n",
      "3\n",
      "Scoop of chocolate\n",
      "Scoop of vanilla\n",
      "Scoop of coffee\n",
      "*** Now printing the bowl ***\n",
      "Bowl of: \n",
      "\t1: Scoop of chocolate\n",
      "\t2: Scoop of vanilla\n",
      "\t3: Scoop of coffee\n"
     ]
    }
   ],
   "source": [
    "class Scoop:\n",
    "    def __init__(self, flavor):\n",
    "        self.flavor = flavor\n",
    "    def __repr__(self):\n",
    "        return f'Scoop of {self.flavor}'\n",
    "\n",
    "s1 = Scoop('chocolate')\n",
    "s2 = Scoop('vanilla')\n",
    "s3 = Scoop('coffee')\n",
    "    \n",
    "class Bowl:\n",
    "    def __init__(self):\n",
    "        self.scoops = []\n",
    "\n",
    "    def add_scoop(self, new_scoop):\n",
    "        self.scoops.append(new_scoop)\n",
    "\n",
    "    def add_scoops(self, *new_scoops):\n",
    "        for one_scoop in new_scoops:    # iterate over the list of scoops\n",
    "            self.add_scoop(one_scoop)   # invoke self.add_scoop for each one, one at a time\n",
    "\n",
    "    def flavors(self):\n",
    "        output = []\n",
    "\n",
    "        for one_scoop in self.scoops:\n",
    "            output.append(one_scoop.flavor)\n",
    "\n",
    "        return output\n",
    "\n",
    "    def __len__(self):\n",
    "        return len(self.scoops)\n",
    "\n",
    "    def __repr__(self):\n",
    "        output = 'Bowl of: \\n'\n",
    "\n",
    "        # for index, one_scoop in enumerate(self.scoops, 1):\n",
    "        #     output += f'\\t{index}: {one_scoop}\\n'\n",
    "        \n",
    "        return output + '\\n'.join([f'\\t{index}: {one_scoop}'\n",
    "                   for index, one_scoop in enumerate(self.scoops, 1)])\n",
    "\n",
    "b = Bowl()   \n",
    "b.add_scoops(s1, s2, s3)   # removed square brackets, so we're invoking it with 3 arguments\n",
    "list_of_flavors = b.flavors()\n",
    "\n",
    "print(list_of_flavors)     # print forwards\n",
    "\n",
    "print(len(b))\n",
    "\n",
    "print(s1)  \n",
    "print(s2)\n",
    "print(s3)\n",
    "\n",
    "print('*** Now printing the bowl ***')\n",
    "print(b)  "
   ]
  },
  {
   "cell_type": "code",
   "execution_count": 49,
   "metadata": {},
   "outputs": [
    {
     "data": {
      "text/plain": [
       "[Scoop of chocolate, Scoop of vanilla, Scoop of coffee]"
      ]
     },
     "execution_count": 49,
     "metadata": {},
     "output_type": "execute_result"
    }
   ],
   "source": [
    "b.scoops"
   ]
  },
  {
   "cell_type": "markdown",
   "metadata": {},
   "source": [
    "# Other magic methods\n",
    "\n",
    "Magic methods are *everywhere* in Python! Let's talk about a few of them.\n",
    "\n",
    "- `__eq__` -- this method is invoked whenever you use `==`. The item on the left of the operator is where the method is invoked, and the value on the right is passed as an additional argument."
   ]
  },
  {
   "cell_type": "code",
   "execution_count": 50,
   "metadata": {},
   "outputs": [
    {
     "data": {
      "text/plain": [
       "False"
      ]
     },
     "execution_count": 50,
     "metadata": {},
     "output_type": "execute_result"
    }
   ],
   "source": [
    "class Person:\n",
    "    def __init__(self, name):\n",
    "        self.name = name\n",
    "\n",
    "p1 = Person('abcd')\n",
    "p2 = Person('abcd')\n",
    "\n",
    "p1 == p2   # are these equal?"
   ]
  },
  {
   "cell_type": "code",
   "execution_count": 51,
   "metadata": {},
   "outputs": [
    {
     "data": {
      "text/plain": [
       "True"
      ]
     },
     "execution_count": 51,
     "metadata": {},
     "output_type": "execute_result"
    }
   ],
   "source": [
    "class Person:\n",
    "    def __init__(self, name):\n",
    "        self.name = name\n",
    "\n",
    "    def __eq__(self, other):    # if I say a == b, it's translated into a.__eq__(b)\n",
    "        return self.name == other.name\n",
    "\n",
    "p1 = Person('abcd')\n",
    "p2 = Person('abcd')\n",
    "\n",
    "p1 == p2   # are these equal?"
   ]
  },
  {
   "cell_type": "code",
   "execution_count": 52,
   "metadata": {},
   "outputs": [
    {
     "ename": "AttributeError",
     "evalue": "'int' object has no attribute 'name'",
     "output_type": "error",
     "traceback": [
      "\u001b[31m---------------------------------------------------------------------------\u001b[39m",
      "\u001b[31mAttributeError\u001b[39m                            Traceback (most recent call last)",
      "\u001b[36mCell\u001b[39m\u001b[36m \u001b[39m\u001b[32mIn[52]\u001b[39m\u001b[32m, line 1\u001b[39m\n\u001b[32m----> \u001b[39m\u001b[32m1\u001b[39m \u001b[43mp1\u001b[49m\u001b[43m \u001b[49m\u001b[43m==\u001b[49m\u001b[43m \u001b[49m\u001b[32;43m5\u001b[39;49m\n",
      "\u001b[36mCell\u001b[39m\u001b[36m \u001b[39m\u001b[32mIn[51]\u001b[39m\u001b[32m, line 6\u001b[39m, in \u001b[36mPerson.__eq__\u001b[39m\u001b[34m(self, other)\u001b[39m\n\u001b[32m      5\u001b[39m \u001b[38;5;28;01mdef\u001b[39;00m\u001b[38;5;250m \u001b[39m\u001b[34m__eq__\u001b[39m(\u001b[38;5;28mself\u001b[39m, other):    \u001b[38;5;66;03m# if I say a == b, it's translated into a.__eq__(b)\u001b[39;00m\n\u001b[32m----> \u001b[39m\u001b[32m6\u001b[39m     \u001b[38;5;28;01mreturn\u001b[39;00m \u001b[38;5;28mself\u001b[39m.name == \u001b[43mother\u001b[49m\u001b[43m.\u001b[49m\u001b[43mname\u001b[49m\n",
      "\u001b[31mAttributeError\u001b[39m: 'int' object has no attribute 'name'"
     ]
    }
   ],
   "source": [
    "p1 == 5"
   ]
  },
  {
   "cell_type": "code",
   "execution_count": 53,
   "metadata": {},
   "outputs": [
    {
     "data": {
      "text/plain": [
       "True"
      ]
     },
     "execution_count": 53,
     "metadata": {},
     "output_type": "execute_result"
    }
   ],
   "source": [
    "# one standard way to handle things: Check if it has the attribute!\n",
    "\n",
    "class Person:\n",
    "    def __init__(self, name):\n",
    "        self.name = name\n",
    "\n",
    "    def __eq__(self, other):   \n",
    "        if hasattr(other, 'name'):   # if the \"other\" object has the \"name\" attribute..\n",
    "            return self.name == other.name\n",
    "\n",
    "        return False  # if not, then they are not equal\n",
    "\n",
    "p1 = Person('abcd')\n",
    "p2 = Person('abcd')\n",
    "\n",
    "p1 == p2   # are these equal?"
   ]
  },
  {
   "cell_type": "code",
   "execution_count": 54,
   "metadata": {},
   "outputs": [
    {
     "data": {
      "text/plain": [
       "False"
      ]
     },
     "execution_count": 54,
     "metadata": {},
     "output_type": "execute_result"
    }
   ],
   "source": [
    "p1 == 5"
   ]
  },
  {
   "cell_type": "markdown",
   "metadata": {},
   "source": [
    "# Magic method `__getitem__`\n",
    "\n",
    "Have you ever noticed that:\n",
    "\n",
    "- We retrieve from a string with `[]`\n",
    "- We retrieve from a list with `[]`\n",
    "- We retrieve from a tuple with `[]`\n",
    "- We retrieve from a dict with `[]'\n",
    "\n",
    "Why? And how?\n",
    "\n",
    "All four of these classes implement the `__getitem__` method. When we invoke `a[b]`, that invokes `a.__getitem__(b)`. What the class does with that method call depends on what it's supposed to do."
   ]
  },
  {
   "cell_type": "code",
   "execution_count": 55,
   "metadata": {},
   "outputs": [
    {
     "data": {
      "text/plain": [
       "'d'"
      ]
     },
     "execution_count": 55,
     "metadata": {},
     "output_type": "execute_result"
    }
   ],
   "source": [
    "\n",
    "class Person:\n",
    "    def __init__(self, name):\n",
    "        self.name = name\n",
    "\n",
    "    def __getitem__(self, index):\n",
    "        return self.name[index]\n",
    "\n",
    "p = Person('abcdefghij')\n",
    "p[3]"
   ]
  },
  {
   "cell_type": "markdown",
   "metadata": {},
   "source": [
    "# Exercise: Retrieve one scoop\n",
    "\n",
    "1. Make it possible to retrieve a `Scoop` from an instance of `Bowl` by specifying the flavor.\n",
    "2. That is, if I say `b['chocolate']`, then it should either return the first scoop with `'chocolate'` as the flavor, or return `None` to indicate that it didn't find that."
   ]
  },
  {
   "cell_type": "code",
   "execution_count": 60,
   "metadata": {},
   "outputs": [
    {
     "name": "stdout",
     "output_type": "stream",
     "text": [
      "['chocolate', 'vanilla', 'coffee']\n",
      "3\n",
      "Scoop of chocolate\n",
      "Scoop of vanilla\n",
      "Scoop of coffee\n",
      "*** Now printing the bowl ***\n",
      "Bowl of: \n",
      "\t1: Scoop of chocolate\n",
      "\t2: Scoop of vanilla\n",
      "\t3: Scoop of coffee\n",
      "Scoop of vanilla\n"
     ]
    }
   ],
   "source": [
    "class Scoop:\n",
    "    def __init__(self, flavor):\n",
    "        self.flavor = flavor\n",
    "    def __repr__(self):\n",
    "        return f'Scoop of {self.flavor}'\n",
    "\n",
    "s1 = Scoop('chocolate')\n",
    "s2 = Scoop('vanilla')\n",
    "s3 = Scoop('coffee')\n",
    "    \n",
    "class Bowl:\n",
    "    def __init__(self):\n",
    "        self.scoops = []\n",
    "\n",
    "    def add_scoop(self, new_scoop):\n",
    "        self.scoops.append(new_scoop)\n",
    "\n",
    "    def add_scoops(self, *new_scoops):\n",
    "        for one_scoop in new_scoops:    # iterate over the list of scoops\n",
    "            self.add_scoop(one_scoop)   # invoke self.add_scoop for each one, one at a time\n",
    "\n",
    "    def flavors(self):\n",
    "        output = []\n",
    "\n",
    "        for one_scoop in self.scoops:\n",
    "            output.append(one_scoop.flavor)\n",
    "\n",
    "        return output\n",
    "\n",
    "    def __len__(self):\n",
    "        return len(self.scoops)\n",
    "\n",
    "    def __repr__(self):\n",
    "        output = 'Bowl of: \\n'\n",
    "\n",
    "        # for index, one_scoop in enumerate(self.scoops, 1):\n",
    "        #     output += f'\\t{index}: {one_scoop}\\n'\n",
    "        \n",
    "        return output + '\\n'.join([f'\\t{index}: {one_scoop}'\n",
    "                   for index, one_scoop in enumerate(self.scoops, 1)])\n",
    "\n",
    "    def __getitem__(self, flavor):\n",
    "        for one_scoop in self.scoops:\n",
    "            if one_scoop.flavor == flavor:\n",
    "                return one_scoop\n",
    "\n",
    "b = Bowl()   \n",
    "b.add_scoops(s1, s2, s3)   # removed square brackets, so we're invoking it with 3 arguments\n",
    "list_of_flavors = b.flavors()\n",
    "\n",
    "print(list_of_flavors)     # print forwards\n",
    "\n",
    "print(len(b))\n",
    "\n",
    "print(s1)  \n",
    "print(s2)\n",
    "print(s3)\n",
    "\n",
    "print('*** Now printing the bowl ***')\n",
    "print(b)  \n",
    "\n",
    "# let's retrieve a scoop by its numeric index\n",
    "print(b['vanilla'])  "
   ]
  },
  {
   "cell_type": "markdown",
   "metadata": {},
   "source": [
    "# Next up\n",
    "\n",
    "1. Class attributes\n",
    "2. ICPO -- searching for attributes\n",
    "3. Inheritance"
   ]
  },
  {
   "cell_type": "markdown",
   "metadata": {},
   "source": [
    "# How should we order magic methods?\n",
    "\n",
    "- `__init__` should always come first\n",
    "- I would suggest (generally) having all magic methods before others\n",
    "\n",
    "I really don't think there's a convention on this."
   ]
  },
  {
   "cell_type": "markdown",
   "metadata": {},
   "source": [
    "# Class attributes\n",
    "\n",
    "We have already said that everything in Python is an object. We're now going to see that *classes* are objects, too.\n",
    "\n",
    "We've also said that every object in Python has attributes. We're now going to see that *classes* have attributes, too.\n",
    "\n",
    "Yes, at the end, we'll see that instances have attributes and classes have attributes.\n",
    "\n",
    "There is no such thing in Python as an attribute that is \"shared\" across objects. The idea that an attribute will exist jointly on a class and its instances does not exist."
   ]
  },
  {
   "cell_type": "code",
   "execution_count": 61,
   "metadata": {},
   "outputs": [
    {
     "name": "stdout",
     "output_type": "stream",
     "text": [
      "Hello, name1!\n",
      "Hello, name2!\n"
     ]
    }
   ],
   "source": [
    "# Let's say that we have a Person class\n",
    "\n",
    "class Person:\n",
    "    def __init__(self, name):\n",
    "        self.name = name\n",
    "\n",
    "    def greet(self):\n",
    "        return f'Hello, {self.name}!'\n",
    "\n",
    "p1 = Person('name1')\n",
    "p2 = Person('name2')\n",
    "\n",
    "print(p1.greet())\n",
    "print(p2.greet())"
   ]
  },
  {
   "cell_type": "code",
   "execution_count": 62,
   "metadata": {},
   "outputs": [
    {
     "name": "stdout",
     "output_type": "stream",
     "text": [
      "Before, population = 0\n"
     ]
    },
    {
     "ename": "UnboundLocalError",
     "evalue": "cannot access local variable 'population' where it is not associated with a value",
     "output_type": "error",
     "traceback": [
      "\u001b[31m---------------------------------------------------------------------------\u001b[39m",
      "\u001b[31mUnboundLocalError\u001b[39m                         Traceback (most recent call last)",
      "\u001b[36mCell\u001b[39m\u001b[36m \u001b[39m\u001b[32mIn[62]\u001b[39m\u001b[32m, line 17\u001b[39m\n\u001b[32m     14\u001b[39m         \u001b[38;5;28;01mreturn\u001b[39;00m \u001b[33mf\u001b[39m\u001b[33m'\u001b[39m\u001b[33mHello, \u001b[39m\u001b[38;5;132;01m{\u001b[39;00m\u001b[38;5;28mself\u001b[39m.name\u001b[38;5;132;01m}\u001b[39;00m\u001b[33m!\u001b[39m\u001b[33m'\u001b[39m\n\u001b[32m     16\u001b[39m \u001b[38;5;28mprint\u001b[39m(\u001b[33mf\u001b[39m\u001b[33m'\u001b[39m\u001b[33mBefore, population = \u001b[39m\u001b[38;5;132;01m{\u001b[39;00mpopulation\u001b[38;5;132;01m}\u001b[39;00m\u001b[33m'\u001b[39m)\n\u001b[32m---> \u001b[39m\u001b[32m17\u001b[39m p1 = \u001b[43mPerson\u001b[49m\u001b[43m(\u001b[49m\u001b[33;43m'\u001b[39;49m\u001b[33;43mname1\u001b[39;49m\u001b[33;43m'\u001b[39;49m\u001b[43m)\u001b[49m\n\u001b[32m     18\u001b[39m p2 = Person(\u001b[33m'\u001b[39m\u001b[33mname2\u001b[39m\u001b[33m'\u001b[39m)\n\u001b[32m     19\u001b[39m \u001b[38;5;28mprint\u001b[39m(\u001b[33mf\u001b[39m\u001b[33m'\u001b[39m\u001b[33mAfter, population = \u001b[39m\u001b[38;5;132;01m{\u001b[39;00mpopulation\u001b[38;5;132;01m}\u001b[39;00m\u001b[33m'\u001b[39m)\n",
      "\u001b[36mCell\u001b[39m\u001b[36m \u001b[39m\u001b[32mIn[62]\u001b[39m\u001b[32m, line 11\u001b[39m, in \u001b[36mPerson.__init__\u001b[39m\u001b[34m(self, name)\u001b[39m\n\u001b[32m      9\u001b[39m \u001b[38;5;28;01mdef\u001b[39;00m\u001b[38;5;250m \u001b[39m\u001b[34m__init__\u001b[39m(\u001b[38;5;28mself\u001b[39m, name):\n\u001b[32m     10\u001b[39m     \u001b[38;5;28mself\u001b[39m.name = name\n\u001b[32m---> \u001b[39m\u001b[32m11\u001b[39m     \u001b[43mpopulation\u001b[49m += \u001b[32m1\u001b[39m\n",
      "\u001b[31mUnboundLocalError\u001b[39m: cannot access local variable 'population' where it is not associated with a value"
     ]
    }
   ],
   "source": [
    "# My boss comes to me and says: Our customers love the Person class!\n",
    "# They want some new functionality, to know how many instances have been created\n",
    "\n",
    "# answer #1: a global variable, population!\n",
    "\n",
    "population = 0\n",
    "\n",
    "class Person:\n",
    "    def __init__(self, name):\n",
    "        self.name = name\n",
    "        population += 1    # add 1 to the global variable population!\n",
    "\n",
    "    def greet(self):\n",
    "        return f'Hello, {self.name}!'\n",
    "\n",
    "print(f'Before, population = {population}')\n",
    "p1 = Person('name1')\n",
    "p2 = Person('name2')\n",
    "print(f'After, population = {population}')\n",
    "\n",
    "print(p1.greet())\n",
    "print(p2.greet())"
   ]
  },
  {
   "cell_type": "markdown",
   "metadata": {},
   "source": [
    "When it comes to global variables in Python, either the variable exists and has a value or it doesn't exist. There is no such thing as a variable existing but being \"unbound\" to any value.\n",
    "\n",
    "However, functions are different! When we write our function, Python notices the names of the variables to which we'll be assigning. It marks those as local variables. When we invoke our function, and we assign to a local variable, all is good. But if we try to retrieve from a local variable before we have assigned to it... we get UnboundLocalError.\n",
    "\n",
    "In this case, we assigned to `population` inside of the function. Python assumes that we want to create a new local variable with the same name as the global one. Then, we use `+=` on it. That requires retrieving the current value of the variable... but it has no value! We get the exception.\n",
    "\n",
    "We can get around this problem by declaring the `population` variable to be `global`. That tells Python's compiler not to mark it as local, and we'll thus assign where we want."
   ]
  },
  {
   "cell_type": "code",
   "execution_count": 63,
   "metadata": {},
   "outputs": [
    {
     "name": "stdout",
     "output_type": "stream",
     "text": [
      "Before, population = 0\n",
      "After, population = 2\n",
      "Hello, name1!\n",
      "Hello, name2!\n"
     ]
    }
   ],
   "source": [
    "# My boss comes to me and says: Our customers love the Person class!\n",
    "# They want some new functionality, to know how many instances have been created\n",
    "\n",
    "# answer #1: a global variable, population!\n",
    "\n",
    "population = 0\n",
    "\n",
    "class Person:\n",
    "    def __init__(self, name):\n",
    "        global population\n",
    "        self.name = name\n",
    "        population += 1    # add 1 to the global variable population!\n",
    "\n",
    "    def greet(self):\n",
    "        return f'Hello, {self.name}!'\n",
    "\n",
    "print(f'Before, population = {population}')\n",
    "p1 = Person('name1')\n",
    "p2 = Person('name2')\n",
    "print(f'After, population = {population}')\n",
    "\n",
    "print(p1.greet())\n",
    "print(p2.greet())"
   ]
  },
  {
   "cell_type": "code",
   "execution_count": 65,
   "metadata": {},
   "outputs": [
    {
     "name": "stdout",
     "output_type": "stream",
     "text": [
      "Before, population = 0\n",
      "After, population = 2\n",
      "Hello, name1!\n",
      "Hello, name2!\n"
     ]
    }
   ],
   "source": [
    "# it's really bad for a function to use \"global\" so that it can assign to a global variable.\n",
    "# sometimes there isn't any choice... but maybe we have one here!\n",
    "\n",
    "# option 2: Define a class attribute\n",
    "\n",
    "class Person:\n",
    "    def __init__(self, name):\n",
    "        self.name = name\n",
    "        Person.population += 1    # add 1 to the attribute Person.population\n",
    "\n",
    "    def greet(self):\n",
    "        return f'Hello, {self.name}!'\n",
    "\n",
    "# after the class as been defined, I'll add a new attribute to it\n",
    "Person.population = 0\n",
    "\n",
    "print(f'Before, population = {Person.population}')\n",
    "p1 = Person('name1')\n",
    "p2 = Person('name2')\n",
    "print(f'After, population = {Person.population}')\n",
    "\n",
    "print(p1.greet())\n",
    "print(p2.greet())"
   ]
  },
  {
   "cell_type": "code",
   "execution_count": 66,
   "metadata": {},
   "outputs": [
    {
     "name": "stdout",
     "output_type": "stream",
     "text": [
      "Before, population = 0\n",
      "After, population = 2\n",
      "Hello, name1!\n",
      "Hello, name2!\n"
     ]
    }
   ],
   "source": [
    "# option 3: Define a class attribute inside of the class definition!\n",
    "# inside of the class body, there is an implicit understanding that all assignment\n",
    "#  is to class attributes, not to variables\n",
    "\n",
    "class Person:\n",
    "    population = 0    # actually Person.population\n",
    "\n",
    "    def __init__(self, name):  # actually Person.__init__\n",
    "        self.name = name\n",
    "        Person.population += 1    # add 1 to the attribute Person.population\n",
    "\n",
    "    def greet(self):  # Person.greet\n",
    "        return f'Hello, {self.name}!'\n",
    "\n",
    "print(f'Before, population = {Person.population}')\n",
    "p1 = Person('name1')\n",
    "p2 = Person('name2')\n",
    "print(f'After, population = {Person.population}')\n",
    "\n",
    "print(p1.greet())\n",
    "print(p2.greet())"
   ]
  },
  {
   "cell_type": "markdown",
   "metadata": {},
   "source": [
    "# When do we want to use class attributes?\n",
    "\n",
    "1. If there's a resource that we want to share among our instances. We can say `Person.population` from any of our instances, and it'll work fine.\n",
    "2. To set constants, or generally values that will be useful. The class is a natural place to put such definitions.\n",
    "3. Methods are class attributes as well, but that's a bit different."
   ]
  },
  {
   "cell_type": "markdown",
   "metadata": {},
   "source": [
    "# Exercise: Limit scoops\n",
    "\n",
    "1. Modify the `Bowl` class, such that at most three scoops can be added into the bowl. If we ever get a request to add another scoop to a full bowl, we ignore the requests.\n",
    "2. It shouldn't matter if we invoke `add_scoop` or `add_scoops`, or how many times we invoke them, or how many arguments we pass to `add_scoops`."
   ]
  },
  {
   "cell_type": "code",
   "execution_count": 69,
   "metadata": {},
   "outputs": [
    {
     "name": "stdout",
     "output_type": "stream",
     "text": [
      "Bowl of: \n",
      "\t1: Scoop of chocolate\n",
      "\t2: Scoop of vanilla\n",
      "\t3: Scoop of coffee\n"
     ]
    }
   ],
   "source": [
    "class Scoop:\n",
    "    def __init__(self, flavor):\n",
    "        self.flavor = flavor\n",
    "    def __repr__(self):\n",
    "        return f'Scoop of {self.flavor}'\n",
    "\n",
    "s1 = Scoop('chocolate')\n",
    "s2 = Scoop('vanilla')\n",
    "s3 = Scoop('coffee')\n",
    "s4 = Scoop('flavor 4')\n",
    "s5 = Scoop('flavor 5')\n",
    "s6 = Scoop('flavor 6')\n",
    "    \n",
    "class Bowl:\n",
    "    MAX_SCOOPS = 3\n",
    "    \n",
    "    def __init__(self):\n",
    "        self.scoops = []\n",
    "\n",
    "    def add_scoop(self, new_scoop):\n",
    "        if len(self.scoops) >= Bowl.MAX_SCOOPS:\n",
    "            return\n",
    "        self.scoops.append(new_scoop)\n",
    "\n",
    "    def add_scoops(self, *new_scoops):\n",
    "        for one_scoop in new_scoops:   \n",
    "            self.add_scoop(one_scoop)  \n",
    "\n",
    "    def flavors(self):\n",
    "        output = []\n",
    "\n",
    "        for one_scoop in self.scoops:\n",
    "            output.append(one_scoop.flavor)\n",
    "\n",
    "        return output\n",
    "\n",
    "    def __len__(self):\n",
    "        return len(self.scoops)\n",
    "\n",
    "    def __repr__(self):\n",
    "        output = 'Bowl of: \\n'\n",
    "        return output + '\\n'.join([f'\\t{index}: {one_scoop}'\n",
    "                   for index, one_scoop in enumerate(self.scoops, 1)])\n",
    "\n",
    "    def __getitem__(self, flavor):\n",
    "        for one_scoop in self.scoops:\n",
    "            if one_scoop.flavor == flavor:\n",
    "                return one_scoop\n",
    "\n",
    "b = Bowl()   \n",
    "b.add_scoops(s1, s2, s3)  \n",
    "b.add_scoops(s4, s5)  \n",
    "b.add_scoops(s6)\n",
    "\n",
    "print(b)"
   ]
  },
  {
   "cell_type": "code",
   "execution_count": 70,
   "metadata": {},
   "outputs": [
    {
     "name": "stdout",
     "output_type": "stream",
     "text": [
      "Before, population = 0\n",
      "After, population = 2\n",
      "After, p1.population = 2\n",
      "After, p2.population = 2\n",
      "Hello, name1!\n",
      "Hello, name2!\n"
     ]
    }
   ],
   "source": [
    "# what if I do this?\n",
    "\n",
    "class Person:\n",
    "    population = 0    # actually Person.population\n",
    "\n",
    "    def __init__(self, name):  # actually Person.__init__\n",
    "        self.name = name\n",
    "        Person.population += 1    # add 1 to the attribute Person.population\n",
    "\n",
    "    def greet(self):  # Person.greet\n",
    "        return f'Hello, {self.name}!'\n",
    "\n",
    "print(f'Before, population = {Person.population}')\n",
    "p1 = Person('name1')\n",
    "p2 = Person('name2')\n",
    "print(f'After, population = {Person.population}')\n",
    "print(f'After, p1.population = {p1.population}')\n",
    "print(f'After, p2.population = {p2.population}')\n",
    "\n",
    "print(p1.greet())\n",
    "print(p2.greet())"
   ]
  },
  {
   "cell_type": "markdown",
   "metadata": {},
   "source": [
    "# Attribute lookup\n",
    "\n",
    "When we ask Python to retrieve the value of an attribute on an object, we think that we'll either get a value back or that we'll get an exception, an `AttributeError`, indicating that the attribute doesn't exist.\n",
    "\n",
    "But Python doesn't work like this. If we ask for an attribute from object, Python tries in a few places before giving up:\n",
    "\n",
    "- On the instance itself that requested\n",
    "- On the class of the instance\n",
    "\n",
    "In our Person example, when we asked for `p1.population`, this is what happened:\n",
    "\n",
    "- Python asked `p1` if it has an attribute named `population`. The answer was \"no.\"\n",
    "- Python then asked `p1`'s class, `Person`, if it has an attribute named `population`, the answer was \"yes,\" and we got the number back.\n",
    "\n",
    "You have already seen this before, because you have been executing methods. Remember that when we invoke\n",
    "\n",
    "    p1.greet()\n",
    "\n",
    "Python:\n",
    "\n",
    "- Turns to `p1` and asks: Do you have an attribute named `greet`? The answer is \"no.\"\n",
    "- Turns to `p1`'s class and asks: Do you have an attribute named `greet`? The answer is \"yes.\" That method is retrieved and invoked."
   ]
  },
  {
   "cell_type": "markdown",
   "metadata": {},
   "source": [
    "# My term for this\n",
    "\n",
    "ICPO:\n",
    "\n",
    "- First, we look on the *instance* that was named in the Python expression\n",
    "- Then, we look on the *class* of that instance\n",
    "- Then we look on that class's *parents* (via inheritance)\n",
    "- Finally, we look at `object`, the ultimate parent in the Python class hierarchy."
   ]
  },
  {
   "cell_type": "code",
   "execution_count": 71,
   "metadata": {},
   "outputs": [
    {
     "name": "stdout",
     "output_type": "stream",
     "text": [
      "Before, population = 0\n",
      "After, population = 0\n",
      "After, p1.population = 1\n",
      "After, p2.population = 1\n",
      "Hello, name1!\n",
      "Hello, name2!\n"
     ]
    }
   ],
   "source": [
    "# it's tempting to do this:\n",
    "\n",
    "class Person:\n",
    "    population = 0   \n",
    "\n",
    "    def __init__(self, name):  # actually Person.__init__\n",
    "        self.name = name\n",
    "        self.population += 1  \n",
    "\n",
    "    def greet(self): \n",
    "        return f'Hello, {self.name}!'\n",
    "\n",
    "print(f'Before, population = {Person.population}')\n",
    "p1 = Person('name1')\n",
    "p2 = Person('name2')\n",
    "print(f'After, population = {Person.population}')\n",
    "print(f'After, p1.population = {p1.population}')\n",
    "print(f'After, p2.population = {p2.population}')\n",
    "\n",
    "print(p1.greet())\n",
    "print(p2.greet())"
   ]
  },
  {
   "cell_type": "markdown",
   "metadata": {},
   "source": [
    "In the above code, every time we invoked `__init__`:\n",
    "\n",
    "- We ran `self.population += 1`\n",
    "- This first retrieved the current value of `self.population`.\n",
    "- On a new object, there is no attribute `self.population`. So we were told to check with the class, `Person`.\n",
    "- `Person` has an attribute `population`, with a value of 0. We grab that, add 1, and then assign to `self.population`, creating a new attribute on the instance that has nothing to do with the attribute of the same name on the class."
   ]
  },
  {
   "cell_type": "markdown",
   "metadata": {},
   "source": [
    "# What's my point?\n",
    "\n",
    "- It's OK to retrieve a class attribute either via the instance or via the class.\n",
    "- If you're setting a class attribute, you *must* assign via the class. Assigning via the instance will create this kind of chaos, with a new attribute on the instance that we really wanted on the class.\n"
   ]
  },
  {
   "cell_type": "code",
   "execution_count": 72,
   "metadata": {},
   "outputs": [
    {
     "data": {
      "text/plain": [
       "type"
      ]
     },
     "execution_count": 72,
     "metadata": {},
     "output_type": "execute_result"
    }
   ],
   "source": [
    "type(str)"
   ]
  },
  {
   "cell_type": "code",
   "execution_count": 73,
   "metadata": {},
   "outputs": [
    {
     "data": {
      "text/plain": [
       "type"
      ]
     },
     "execution_count": 73,
     "metadata": {},
     "output_type": "execute_result"
    }
   ],
   "source": [
    "type(Bowl)"
   ]
  },
  {
   "cell_type": "code",
   "execution_count": 74,
   "metadata": {},
   "outputs": [
    {
     "data": {
      "text/plain": [
       "type"
      ]
     },
     "execution_count": 74,
     "metadata": {},
     "output_type": "execute_result"
    }
   ],
   "source": [
    "type(Scoop)"
   ]
  },
  {
   "cell_type": "code",
   "execution_count": 75,
   "metadata": {},
   "outputs": [
    {
     "data": {
      "text/plain": [
       "type"
      ]
     },
     "execution_count": 75,
     "metadata": {},
     "output_type": "execute_result"
    }
   ],
   "source": [
    "# if type is the class for every class\n",
    "# then what is the type of type?\n",
    "\n",
    "type(type)  "
   ]
  },
  {
   "cell_type": "markdown",
   "metadata": {},
   "source": [
    "# Next up\n",
    "\n",
    "1. Inheritance\n",
    "2. Finish up all of the ICPO levels (parent and `object`)\n",
    "3. How to use inheritance"
   ]
  },
  {
   "cell_type": "code",
   "execution_count": 76,
   "metadata": {},
   "outputs": [
    {
     "name": "stdout",
     "output_type": "stream",
     "text": [
      "Hello, name1\n",
      "Hello, name2\n"
     ]
    }
   ],
   "source": [
    "# Once again, we have a Person class that our company has developed.\n",
    "# Our clients are super happy with it!\n",
    "\n",
    "class Person:\n",
    "    def __init__(self, name):\n",
    "        self.name = name\n",
    "\n",
    "    def greet(self):\n",
    "        return f'Hello, {self.name}'\n",
    "\n",
    "p1 = Person('name1')\n",
    "p2 = Person('name2')\n",
    "\n",
    "print(p1.greet())  # does p1 have greet? No. Does Person have greet? Yes! We run that.\n",
    "print(p2.greet())"
   ]
  },
  {
   "cell_type": "code",
   "execution_count": 77,
   "metadata": {},
   "outputs": [
    {
     "name": "stdout",
     "output_type": "stream",
     "text": [
      "Hello, name1\n",
      "Hello, name2\n",
      "Hello, emp1\n",
      "Hello, emp2\n"
     ]
    }
   ],
   "source": [
    "# Our customers are so happy with our software, they want to use it to manage\n",
    "# more of their business. That means having not just a Person class, but also\n",
    "# an Employee class. Employees are identical to People, except that they have one\n",
    "# additional piece of information associated with them -- their ID number.\n",
    "\n",
    "# Option 1: Copy and paste!\n",
    "\n",
    "class Person:\n",
    "    def __init__(self, name):\n",
    "        self.name = name\n",
    "\n",
    "    def greet(self):\n",
    "        return f'Hello, {self.name}'\n",
    "\n",
    "p1 = Person('name1')\n",
    "p2 = Person('name2')\n",
    "\n",
    "print(p1.greet()) \n",
    "print(p2.greet())\n",
    "\n",
    "class Employee:\n",
    "    def __init__(self, name, id_number):\n",
    "        self.name = name\n",
    "        self.id_number = id_number\n",
    "\n",
    "    def greet(self):\n",
    "        return f'Hello, {self.name}'\n",
    "\n",
    "e1 = Employee('emp1', 1)\n",
    "e2 = Employee('emp2', 2)\n",
    "\n",
    "print(e1.greet()) \n",
    "print(e2.greet())"
   ]
  },
  {
   "cell_type": "code",
   "execution_count": null,
   "metadata": {},
   "outputs": [],
   "source": [
    "# My boss says: You have two classes here, one of which is nearly identical to the other.\n",
    "# Couldn't you use inheritance?\n",
    "\n",
    "# Option 2: Inheritance"
   ]
  },
  {
   "cell_type": "markdown",
   "metadata": {},
   "source": [
    "# Inheritance\n",
    "\n",
    "Many *many* classes in object-oriented programming seem to stress inheritance as one of the most important parts of this paradigm. It is important, and useful... but not everywhere.\n",
    "\n",
    "The whole point of inheritance is to avoid writing duplicate code. If there's already a class that basically, mostly does what you want in your new class, then you *inherit* from the existing one and just tweak/modify what needs changing.\n",
    "\n",
    "This is true if you have written the original class, or a colleague has, or a third party has. By inheriting from that other class, you can then make a new class that's more specific than that one, and closer to your needs.\n",
    "\n",
    "If you have two classes, one of which is a specific version of the other, then inheritance seems like a good idea. \n",
    "\n",
    "Inheritance works via attribute lookup:\n",
    "\n",
    "- If an attribute is on an instance, we get that value.\n",
    "- If not, then we look at the instance's class.\n",
    "- If not there, then we look at the *PARENT* of that class. In other words, we can say that one class *inherits* from another.\n",
    "- In fact, we can have several levels of parents\n",
    "- Eventually, we get to the final, ultimate, highest parent, known as `object`.\n",
    "- If the attribute (method) we want isn't found anywhere, then we get an error."
   ]
  },
  {
   "cell_type": "code",
   "execution_count": 78,
   "metadata": {},
   "outputs": [
    {
     "name": "stdout",
     "output_type": "stream",
     "text": [
      "Hello, name1\n",
      "Hello, name2\n",
      "Hello, emp1\n",
      "Hello, emp2\n"
     ]
    }
   ],
   "source": [
    "class Person:\n",
    "    def __init__(self, name):\n",
    "        self.name = name\n",
    "\n",
    "    def greet(self):\n",
    "        return f'Hello, {self.name}'\n",
    "\n",
    "p1 = Person('name1')\n",
    "p2 = Person('name2')\n",
    "\n",
    "print(p1.greet()) \n",
    "print(p2.greet())\n",
    "\n",
    "class Employee(Person):    # putting a class in () means: Employee inherits from Person, aka Employee is-a Person\n",
    "    def __init__(self, name, id_number):\n",
    "        self.name = name\n",
    "        self.id_number = id_number\n",
    "\n",
    "    def greet(self):\n",
    "        return f'Hello, {self.name}'\n",
    "\n",
    "e1 = Employee('emp1', 1)\n",
    "e2 = Employee('emp2', 2)\n",
    "\n",
    "print(e1.greet()) \n",
    "print(e2.greet())"
   ]
  },
  {
   "cell_type": "code",
   "execution_count": 80,
   "metadata": {},
   "outputs": [
    {
     "name": "stdout",
     "output_type": "stream",
     "text": [
      "Hello, name1\n",
      "Hello, name2\n",
      "Hello, emp1\n",
      "Hello, emp2\n"
     ]
    }
   ],
   "source": [
    "# because \"greet\" is identical in Employee (the child class) and Person (the parent class), we can\n",
    "# just get rid of Employee.greet.\n",
    "\n",
    "class Person:\n",
    "    def __init__(self, name):\n",
    "        self.name = name\n",
    "\n",
    "    def greet(self):\n",
    "        return f'Hello, {self.name}'\n",
    "\n",
    "p1 = Person('name1')\n",
    "p2 = Person('name2')\n",
    "\n",
    "print(p1.greet()) \n",
    "print(p2.greet())\n",
    "\n",
    "class Employee(Person):    # putting a class in () means: Employee inherits from Person, aka Employee is-a Person\n",
    "    def __init__(self, name, id_number):\n",
    "        self.name = name\n",
    "        self.id_number = id_number\n",
    "\n",
    "e1 = Employee('emp1', 1)\n",
    "e2 = Employee('emp2', 2)\n",
    "\n",
    "print(e1.greet()) # does e1 have greet? No. Does Employee have greet? No. Does Person (Employee's parent) have greet? Yes.\n",
    "print(e2.greet())"
   ]
  },
  {
   "cell_type": "code",
   "execution_count": null,
   "metadata": {},
   "outputs": [],
   "source": [
    "# what about our assignment to self.name in both Person.__init__ and Employee.__init__?\n",
    "# what if we remove the assignment from Employee? Can we rely on Person.__init__ to set it?\n",
    "\n",
    "class Person:\n",
    "    def __init__(self, name):\n",
    "        self.name = name\n",
    "\n",
    "    def greet(self):\n",
    "        return f'Hello, {self.name}'\n",
    "\n",
    "p1 = Person('name1')\n",
    "p2 = Person('name2')\n",
    "\n",
    "print(p1.greet()) \n",
    "print(p2.greet())\n",
    "\n",
    "class Employee(Person):    # putting a class in () means: Employee inherits from Person, aka Employee is-a Person\n",
    "    def __init__(self, name, id_number):\n",
    "        self.id_number = id_number\n",
    "\n",
    "e1 = Employee('emp1', 1)\n",
    "e2 = Employee('emp2', 2)\n",
    "\n",
    "print(e1.greet()) # does e1 have greet? No. Does Employee have greet? No. Does Person (Employee's parent) have greet? Yes.\n",
    "print(e2.greet())"
   ]
  }
 ],
 "metadata": {
  "kernelspec": {
   "display_name": "Python 3 (ipykernel)",
   "language": "python",
   "name": "python3"
  },
  "language_info": {
   "codemirror_mode": {
    "name": "ipython",
    "version": 3
   },
   "file_extension": ".py",
   "mimetype": "text/x-python",
   "name": "python",
   "nbconvert_exporter": "python",
   "pygments_lexer": "ipython3",
   "version": "3.13.9"
  }
 },
 "nbformat": 4,
 "nbformat_minor": 4
}
