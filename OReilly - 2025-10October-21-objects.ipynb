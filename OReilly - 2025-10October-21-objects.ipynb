{
 "cells": [
  {
   "cell_type": "markdown",
   "metadata": {},
   "source": [
    "# Agenda, day 2\n",
    "\n",
    "1. Recap and Q&A\n",
    "2. Magic methods / \"dunder\" methods\n",
    "3. Class attributes\n",
    "4. Finding attributes with ICPO\n",
    "5. Inheritance -- what it is, and how ICPO influences it\n",
    "6. Three models for method inheritance\n",
    "7. Data inheritance\n",
    "8. What next?"
   ]
  },
  {
   "cell_type": "markdown",
   "metadata": {},
   "source": [
    "# Recap\n",
    "\n",
    "How do we solve problems? It's easiest if we can use a data structure that is appropriate for solving that problem. Objects allow us to create a data structure that is specifically designed to solve a problem. Even though we might be using ints, strings, lists, and dicts to implement our object, the fact that we can think about it at a higher level makes it easier to work with.\n",
    "\n",
    "The whole idea of object-oriented programming is thus: Create new data structures, along with methods, that together make it easier to think about and use these structures and thus solve our problems.\n",
    "\n",
    "1. Methods are defined as part of the class body. And actually, methods are attributes on the class. However, we invoke them via the instance, and Python does a little magical substitution, turning the instance into the first argument passed to the method.\n",
    "2. The first parameter in every method is traditionally called `self`, and gets that instance assigned to it.\n",
    "3. If you try to invoke a method that doesn't exist, you'll get an \"attribute error,\" with Python telling you that the method doesn't exist.\n",
    "4. We define new \"classes,\" factories for our data structures. We start the class definition with the reserved word `class`, then the name we want to give it, and then any number of methods that we might want to invoke on our data.\n",
    "5. If we have a `Person` class, then it creates *instances* of `Person`. Every object has a `type`, and we can invoke `type()` on it to find out its class. In this way, `class` and `type` are two ways to say the same thing.\n",
    "6. The most important method in a class is `__init__`, the initializer. (We pronounce it \"dunder init,\" because it has a double underscore before and after the word \"init.\") Its job is to add attributes to a new object after that object is created, but before it's returned to the caller. Typically, we'll assign many attributes based on parameters, but we can add fewer or more, depending on what we want to do. In theory, you can add attributes to an object whenever you want... but it's a good idea to only add new attributes in `__init__`, for easier maintenance.\n",
    "7. Each time we invoke a method on an instance, the first argument is the instance itself, and is assigned to `self`. You can use another word instead of `self`, and if you forget to make `self` the first parameter, then whatever is the first parameter will get the instance assigned to it. But you really should use `self`.\n",
    "8. Python doesn't have protected or private status for attributes. (Other languages do, and they call attributes \"instance variables\" when they're set on `self`.) Whereas other languages have getters and setters so that people don't access those values directly, Python *encourages* us to use them directly!\n",
    "   "
   ]
  },
  {
   "cell_type": "code",
   "execution_count": 1,
   "metadata": {},
   "outputs": [],
   "source": [
    "class Person:\n",
    "    def __init__(self, name, shoe_size):\n",
    "        self.name = name\n",
    "        self.shoe_size = shoe_size\n",
    "        self.bank_balance = 0   # attribute that I set, with a default/starter value, without any connection to a parameter\n",
    "\n",
    "    def greet(self):\n",
    "        return f'Hello, {self.name}!'  # if I just say \"name\", and not \"self.name\", then Python will not find my attribute\n",
    "\n",
    "p = Person('Reuven', 46)    "
   ]
  },
  {
   "cell_type": "code",
   "execution_count": 2,
   "metadata": {},
   "outputs": [
    {
     "data": {
      "text/plain": [
       "'Hello, Reuven!'"
      ]
     },
     "execution_count": 2,
     "metadata": {},
     "output_type": "execute_result"
    }
   ],
   "source": [
    "p.greet()   # the same as Person.greet(p)"
   ]
  },
  {
   "cell_type": "code",
   "execution_count": 3,
   "metadata": {},
   "outputs": [
    {
     "data": {
      "text/plain": [
       "'Hello, Reuven!'"
      ]
     },
     "execution_count": 3,
     "metadata": {},
     "output_type": "execute_result"
    }
   ],
   "source": [
    "Person.greet(p)"
   ]
  },
  {
   "cell_type": "code",
   "execution_count": 4,
   "metadata": {},
   "outputs": [
    {
     "data": {
      "text/plain": [
       "'Reuven'"
      ]
     },
     "execution_count": 4,
     "metadata": {},
     "output_type": "execute_result"
    }
   ],
   "source": [
    "p.name"
   ]
  },
  {
   "cell_type": "code",
   "execution_count": 5,
   "metadata": {},
   "outputs": [],
   "source": [
    "p.name = 'whatever'"
   ]
  },
  {
   "cell_type": "code",
   "execution_count": 6,
   "metadata": {},
   "outputs": [
    {
     "data": {
      "text/plain": [
       "'whatever'"
      ]
     },
     "execution_count": 6,
     "metadata": {},
     "output_type": "execute_result"
    }
   ],
   "source": [
    "p.name"
   ]
  },
  {
   "cell_type": "code",
   "execution_count": 7,
   "metadata": {},
   "outputs": [
    {
     "data": {
      "text/plain": [
       "'Hello, whatever!'"
      ]
     },
     "execution_count": 7,
     "metadata": {},
     "output_type": "execute_result"
    }
   ],
   "source": [
    "p.greet()"
   ]
  },
  {
   "cell_type": "code",
   "execution_count": 8,
   "metadata": {},
   "outputs": [
    {
     "data": {
      "text/plain": [
       "0"
      ]
     },
     "execution_count": 8,
     "metadata": {},
     "output_type": "execute_result"
    }
   ],
   "source": [
    "p.bank_balance"
   ]
  },
  {
   "cell_type": "markdown",
   "metadata": {},
   "source": [
    "# Exercise: Cellphone\n",
    "\n",
    "1. Define a `Cellphone` class. Each instance will have two attributes:\n",
    "    - `number`\n",
    "    - `model`\n",
    "2. You should be able to invoke the `call` method on an instance of `Cellphone. It'll return a string saying, \"Calling\" and then print the number that is calling. You'll have to provide an argument, the number to call."
   ]
  },
  {
   "cell_type": "code",
   "execution_count": null,
   "metadata": {},
   "outputs": [],
   "source": []
  }
 ],
 "metadata": {
  "kernelspec": {
   "display_name": "Python 3 (ipykernel)",
   "language": "python",
   "name": "python3"
  },
  "language_info": {
   "codemirror_mode": {
    "name": "ipython",
    "version": 3
   },
   "file_extension": ".py",
   "mimetype": "text/x-python",
   "name": "python",
   "nbconvert_exporter": "python",
   "pygments_lexer": "ipython3",
   "version": "3.13.9"
  }
 },
 "nbformat": 4,
 "nbformat_minor": 4
}
