{
 "cells": [
  {
   "cell_type": "markdown",
   "metadata": {},
   "source": [
    "# Agenda, day 2\n",
    "\n",
    "1. Recap and Q&A\n",
    "2. Magic methods / \"dunder\" methods\n",
    "3. Class attributes\n",
    "4. Finding attributes with ICPO\n",
    "5. Inheritance -- what it is, and how ICPO influences it\n",
    "6. Three models for method inheritance\n",
    "7. Data inheritance\n",
    "8. What next?"
   ]
  },
  {
   "cell_type": "markdown",
   "metadata": {},
   "source": [
    "# Recap\n",
    "\n",
    "How do we solve problems? It's easiest if we can use a data structure that is appropriate for solving that problem. Objects allow us to create a data structure that is specifically designed to solve a problem. Even though we might be using ints, strings, lists, and dicts to implement our object, the fact that we can think about it at a higher level makes it easier to work with.\n",
    "\n",
    "The whole idea of object-oriented programming is thus: Create new data structures, along with methods, that together make it easier to think about and use these structures and thus solve our problems.\n",
    "\n",
    "1. Methods are defined as part of the class body. And actually, methods are attributes on the class. However, we invoke them via the instance, and Python does a little magical substitution, turning the instance into the first argument passed to the method.\n",
    "2. The first parameter in every method is traditionally called `self`, and gets that instance assigned to it.\n",
    "3. If you try to invoke a method that doesn't exist, you'll get an \"attribute error,\" with Python telling you that the method doesn't exist.\n",
    "4. We define new \"classes,\" factories for our data structures. We start the class definition with the reserved word `class`, then the name we want to give it, and then any number of methods that we might want to invoke on our data.\n",
    "5. If we have a `Person` class, then it creates *instances* of `Person`. Every object has a `type`, and we can invoke `type()` on it to find out its class. In this way, `class` and `type` are two ways to say the same thing.\n",
    "6. The most important method in a class is `__init__`, the initializer. (We pronounce it \"dunder init,\" because it has a double underscore before and after the word \"init.\") Its job is to add attributes to a new object after that object is created, but before it's returned to the caller. Typically, we'll assign many attributes based on parameters, but we can add fewer or more, depending on what we want to do. In theory, you can add attributes to an object whenever you want... but it's a good idea to only add new attributes in `__init__`, for easier maintenance.\n",
    "7. Each time we invoke a method on an instance, the first argument is the instance itself, and is assigned to `self`. You can use another word instead of `self`, and if you forget to make `self` the first parameter, then whatever is the first parameter will get the instance assigned to it. But you really should use `self`.\n",
    "8. Python doesn't have protected or private status for attributes. (Other languages do, and they call attributes \"instance variables\" when they're set on `self`.) Whereas other languages have getters and setters so that people don't access those values directly, Python *encourages* us to use them directly!\n",
    "   "
   ]
  },
  {
   "cell_type": "code",
   "execution_count": 1,
   "metadata": {},
   "outputs": [],
   "source": [
    "class Person:\n",
    "    def __init__(self, name, shoe_size):\n",
    "        self.name = name\n",
    "        self.shoe_size = shoe_size\n",
    "        self.bank_balance = 0   # attribute that I set, with a default/starter value, without any connection to a parameter\n",
    "\n",
    "    def greet(self):\n",
    "        return f'Hello, {self.name}!'  # if I just say \"name\", and not \"self.name\", then Python will not find my attribute\n",
    "\n",
    "p = Person('Reuven', 46)    "
   ]
  },
  {
   "cell_type": "code",
   "execution_count": 2,
   "metadata": {},
   "outputs": [
    {
     "data": {
      "text/plain": [
       "'Hello, Reuven!'"
      ]
     },
     "execution_count": 2,
     "metadata": {},
     "output_type": "execute_result"
    }
   ],
   "source": [
    "p.greet()   # the same as Person.greet(p)"
   ]
  },
  {
   "cell_type": "code",
   "execution_count": 3,
   "metadata": {},
   "outputs": [
    {
     "data": {
      "text/plain": [
       "'Hello, Reuven!'"
      ]
     },
     "execution_count": 3,
     "metadata": {},
     "output_type": "execute_result"
    }
   ],
   "source": [
    "Person.greet(p)"
   ]
  },
  {
   "cell_type": "code",
   "execution_count": 4,
   "metadata": {},
   "outputs": [
    {
     "data": {
      "text/plain": [
       "'Reuven'"
      ]
     },
     "execution_count": 4,
     "metadata": {},
     "output_type": "execute_result"
    }
   ],
   "source": [
    "p.name"
   ]
  },
  {
   "cell_type": "code",
   "execution_count": 5,
   "metadata": {},
   "outputs": [],
   "source": [
    "p.name = 'whatever'"
   ]
  },
  {
   "cell_type": "code",
   "execution_count": 6,
   "metadata": {},
   "outputs": [
    {
     "data": {
      "text/plain": [
       "'whatever'"
      ]
     },
     "execution_count": 6,
     "metadata": {},
     "output_type": "execute_result"
    }
   ],
   "source": [
    "p.name"
   ]
  },
  {
   "cell_type": "code",
   "execution_count": 7,
   "metadata": {},
   "outputs": [
    {
     "data": {
      "text/plain": [
       "'Hello, whatever!'"
      ]
     },
     "execution_count": 7,
     "metadata": {},
     "output_type": "execute_result"
    }
   ],
   "source": [
    "p.greet()"
   ]
  },
  {
   "cell_type": "code",
   "execution_count": 8,
   "metadata": {},
   "outputs": [
    {
     "data": {
      "text/plain": [
       "0"
      ]
     },
     "execution_count": 8,
     "metadata": {},
     "output_type": "execute_result"
    }
   ],
   "source": [
    "p.bank_balance"
   ]
  },
  {
   "cell_type": "markdown",
   "metadata": {},
   "source": [
    "# Exercise: Cellphone\n",
    "\n",
    "1. Define a `Cellphone` class. Each instance will have two attributes:\n",
    "    - `number`\n",
    "    - `model`\n",
    "2. You should be able to invoke the `call` method on an instance of `Cellphone. It'll return a string saying, \"Calling\" and then print the number that is calling. You'll have to provide an argument, the number to call."
   ]
  },
  {
   "cell_type": "code",
   "execution_count": 14,
   "metadata": {},
   "outputs": [
    {
     "data": {
      "text/plain": [
       "'Phone 12345 is calling 2468'"
      ]
     },
     "execution_count": 14,
     "metadata": {},
     "output_type": "execute_result"
    }
   ],
   "source": [
    "class Cellphone:\n",
    "    def __init__(self, number, model):\n",
    "        self.number = number\n",
    "        self.model = model\n",
    "\n",
    "    def call(self, other_number):\n",
    "        return f'Phone {self.number} is calling {other_number}'\n",
    "\n",
    "c1 = Cellphone(12345, 'iPhone')\n",
    "c2 = Cellphone(67890, 'Android')\n",
    "\n",
    "c1.call(2468)"
   ]
  },
  {
   "cell_type": "code",
   "execution_count": 15,
   "metadata": {},
   "outputs": [
    {
     "data": {
      "text/plain": [
       "'Phone 67890 is calling 12345'"
      ]
     },
     "execution_count": 15,
     "metadata": {},
     "output_type": "execute_result"
    }
   ],
   "source": [
    "c2.call(c1.number)  "
   ]
  },
  {
   "cell_type": "code",
   "execution_count": 10,
   "metadata": {},
   "outputs": [
    {
     "data": {
      "text/plain": [
       "__main__.Cellphone"
      ]
     },
     "execution_count": 10,
     "metadata": {},
     "output_type": "execute_result"
    }
   ],
   "source": [
    "type(c1)"
   ]
  },
  {
   "cell_type": "code",
   "execution_count": 11,
   "metadata": {},
   "outputs": [
    {
     "data": {
      "text/plain": [
       "{'number': 12345, 'model': 'iPhone'}"
      ]
     },
     "execution_count": 11,
     "metadata": {},
     "output_type": "execute_result"
    }
   ],
   "source": [
    "vars(c1)"
   ]
  },
  {
   "cell_type": "code",
   "execution_count": 12,
   "metadata": {},
   "outputs": [
    {
     "data": {
      "text/plain": [
       "__main__.Cellphone"
      ]
     },
     "execution_count": 12,
     "metadata": {},
     "output_type": "execute_result"
    }
   ],
   "source": [
    "type(c2)"
   ]
  },
  {
   "cell_type": "code",
   "execution_count": 13,
   "metadata": {},
   "outputs": [
    {
     "data": {
      "text/plain": [
       "{'number': 67890, 'model': 'Android'}"
      ]
     },
     "execution_count": 13,
     "metadata": {},
     "output_type": "execute_result"
    }
   ],
   "source": [
    "vars(c2)"
   ]
  },
  {
   "cell_type": "code",
   "execution_count": 16,
   "metadata": {},
   "outputs": [
    {
     "name": "stdout",
     "output_type": "stream",
     "text": [
      "<__main__.Cellphone object at 0x108a73620>\n"
     ]
    }
   ],
   "source": [
    "# what happens if I print my cellphones?\n",
    "\n",
    "print(c1)"
   ]
  },
  {
   "cell_type": "code",
   "execution_count": 17,
   "metadata": {},
   "outputs": [
    {
     "name": "stdout",
     "output_type": "stream",
     "text": [
      "<__main__.Cellphone object at 0x108a9f250>\n"
     ]
    }
   ],
   "source": [
    "print(c2)"
   ]
  },
  {
   "cell_type": "markdown",
   "metadata": {},
   "source": [
    "# Magic methods\n",
    "\n",
    "When we perform certain operations in Python, behind the scenes, the operator is translated into a method call. For example, when we compare values with `==`, there's really a method that is being invoked.\n",
    "\n",
    "Every operator that you can think of, plus many you probably cannot, are all implemented using methods.\n",
    "\n",
    "The thing is, these methods don't always need to be defined. And you probably shoudn't be invoking them on your own very often. Plus, if we define these methods, then we really change the way that our objects work, because Python sees the method and uses it .\n",
    "\n",
    "For all of these reasons, these special methods, known as \"magic methods,\" have special names. All of their names are \"dunders,\" meaning that they start and end with a double underscore, `__`. (That's not `_`, but rather `__` both before and after the method name.)\n",
    "\n",
    "I want to show you some magic methods now, and we'll use them in a number of classes.\n",
    "\n",
    "It's typical to implement a number of these methods. Also, new Python functionality is generally implemented by adding new dunder methods.\n",
    "\n",
    "You should *not* name a method with dunders unless you know what you're doing! You might get yourself into trouble, either now or down the road if/when Python uses that name."
   ]
  },
  {
   "cell_type": "markdown",
   "metadata": {},
   "source": [
    "# Simple magic method: `__len__`\n",
    "\n",
    "When you call `len` (the function) on an object, it in turn looks for the `__len__` method on that object.\n",
    "\n"
   ]
  },
  {
   "cell_type": "code",
   "execution_count": 18,
   "metadata": {},
   "outputs": [
    {
     "data": {
      "text/plain": [
       "4"
      ]
     },
     "execution_count": 18,
     "metadata": {},
     "output_type": "execute_result"
    }
   ],
   "source": [
    "len('abcd')"
   ]
  },
  {
   "cell_type": "code",
   "execution_count": 19,
   "metadata": {},
   "outputs": [
    {
     "ename": "TypeError",
     "evalue": "object of type 'int' has no len()",
     "output_type": "error",
     "traceback": [
      "\u001b[31m---------------------------------------------------------------------------\u001b[39m",
      "\u001b[31mTypeError\u001b[39m                                 Traceback (most recent call last)",
      "\u001b[36mCell\u001b[39m\u001b[36m \u001b[39m\u001b[32mIn[19]\u001b[39m\u001b[32m, line 1\u001b[39m\n\u001b[32m----> \u001b[39m\u001b[32m1\u001b[39m \u001b[38;5;28;43mlen\u001b[39;49m\u001b[43m(\u001b[49m\u001b[32;43m1234\u001b[39;49m\u001b[43m)\u001b[49m\n",
      "\u001b[31mTypeError\u001b[39m: object of type 'int' has no len()"
     ]
    }
   ],
   "source": [
    "len(1234)"
   ]
  },
  {
   "cell_type": "code",
   "execution_count": 20,
   "metadata": {},
   "outputs": [
    {
     "ename": "TypeError",
     "evalue": "object of type 'Person' has no len()",
     "output_type": "error",
     "traceback": [
      "\u001b[31m---------------------------------------------------------------------------\u001b[39m",
      "\u001b[31mTypeError\u001b[39m                                 Traceback (most recent call last)",
      "\u001b[36mCell\u001b[39m\u001b[36m \u001b[39m\u001b[32mIn[20]\u001b[39m\u001b[32m, line 7\u001b[39m\n\u001b[32m      3\u001b[39m         \u001b[38;5;28mself\u001b[39m.name = name\n\u001b[32m      5\u001b[39m p = Person(\u001b[33m'\u001b[39m\u001b[33mReuven\u001b[39m\u001b[33m'\u001b[39m)\n\u001b[32m----> \u001b[39m\u001b[32m7\u001b[39m \u001b[38;5;28;43mlen\u001b[39;49m\u001b[43m(\u001b[49m\u001b[43mp\u001b[49m\u001b[43m)\u001b[49m\n",
      "\u001b[31mTypeError\u001b[39m: object of type 'Person' has no len()"
     ]
    }
   ],
   "source": [
    "class Person:\n",
    "    def __init__(self, name):\n",
    "        self.name = name\n",
    "\n",
    "p = Person('Reuven')\n",
    "\n",
    "len(p)"
   ]
  },
  {
   "cell_type": "code",
   "execution_count": 21,
   "metadata": {},
   "outputs": [
    {
     "data": {
      "text/plain": [
       "6"
      ]
     },
     "execution_count": 21,
     "metadata": {},
     "output_type": "execute_result"
    }
   ],
   "source": [
    "# I'm going to add a __len__ method that returns the length of the name\n",
    "\n",
    "class Person:\n",
    "    def __init__(self, name):\n",
    "        self.name = name\n",
    "    def __len__(self):\n",
    "        return len(self.name)\n",
    "\n",
    "p = Person('Reuven')\n",
    "\n",
    "len(p)"
   ]
  },
  {
   "cell_type": "markdown",
   "metadata": {},
   "source": [
    "# What happened?\n",
    "\n",
    "1. I invoked `len(p)`\n",
    "2. This was translated into `p.__len__()` by Python\n",
    "3. Because `__len__` is defined on `Person`, it ran and its return value was returned to the caller."
   ]
  },
  {
   "cell_type": "markdown",
   "metadata": {},
   "source": [
    "# Exercise: How many scoops?\n",
    "\n",
    "1. Yesterday, we defined both `Scoop` and `Bowl`. Any instance of `Bowl` has a `scoops` attribute, a list of `Scoop` instances.\n",
    "2. Add the capability to invoke `len` on an instance of `Bowl`. That'll return the number of scoops in the bowl.\n",
    "3. After doing so, test that it works -- call `len` on a `Bowl`, then add a new `Scoop`, then measure again."
   ]
  },
  {
   "cell_type": "code",
   "execution_count": 24,
   "metadata": {},
   "outputs": [
    {
     "name": "stdout",
     "output_type": "stream",
     "text": [
      "['chocolate', 'vanilla', 'coffee']\n",
      "3\n"
     ]
    }
   ],
   "source": [
    "class Scoop:\n",
    "    def __init__(self, flavor):\n",
    "        self.flavor = flavor\n",
    "\n",
    "s1 = Scoop('chocolate')\n",
    "s2 = Scoop('vanilla')\n",
    "s3 = Scoop('coffee')\n",
    "    \n",
    "class Bowl:\n",
    "    def __init__(self):\n",
    "        self.scoops = []\n",
    "\n",
    "    def add_scoop(self, new_scoop):\n",
    "        self.scoops.append(new_scoop)\n",
    "\n",
    "    def add_scoops(self, *new_scoops):\n",
    "        for one_scoop in new_scoops:    # iterate over the list of scoops\n",
    "            self.add_scoop(one_scoop)   # invoke self.add_scoop for each one, one at a time\n",
    "\n",
    "    def flavors(self):\n",
    "        output = []\n",
    "\n",
    "        for one_scoop in self.scoops:\n",
    "            output.append(one_scoop.flavor)\n",
    "\n",
    "        return output\n",
    "\n",
    "    def __len__(self):\n",
    "        return len(self.scoops)\n",
    "\n",
    "b = Bowl()   \n",
    "b.add_scoops(s1, s2, s3)   # removed square brackets, so we're invoking it with 3 arguments\n",
    "list_of_flavors = b.flavors()\n",
    "print(list_of_flavors)     # print forwards\n",
    "\n",
    "print(len(b))"
   ]
  },
  {
   "cell_type": "code",
   "execution_count": 25,
   "metadata": {},
   "outputs": [],
   "source": [
    "s = 'abcde'"
   ]
  },
  {
   "cell_type": "code",
   "execution_count": null,
   "metadata": {},
   "outputs": [],
   "source": []
  },
  {
   "cell_type": "code",
   "execution_count": 26,
   "metadata": {},
   "outputs": [
    {
     "data": {
      "text/plain": [
       "5"
      ]
     },
     "execution_count": 26,
     "metadata": {},
     "output_type": "execute_result"
    }
   ],
   "source": [
    "s.__len__()  # don't do this, but *can* you?"
   ]
  },
  {
   "cell_type": "markdown",
   "metadata": {},
   "source": [
    "# Warning:\n",
    "\n",
    "Make sure that you spell the magic methods correctly!\n",
    "\n",
    "I've often seen people accidentally write `__int__` instead of `__init__`. That is the magic method that is invoked when you want to turn a value into an integer, when you invoke `int()` on it! "
   ]
  },
  {
   "cell_type": "markdown",
   "metadata": {},
   "source": []
  },
  {
   "cell_type": "markdown",
   "metadata": {},
   "source": [
    "# Next up:\n",
    "\n",
    "1. Methods for `__str__` and `__repr__`\n",
    "2. A handful of other magic methods, as well"
   ]
  },
  {
   "cell_type": "markdown",
   "metadata": {},
   "source": [
    "# Printing our objects\n",
    "\n",
    "If we try to print our cellphone or scoop or bowl objects, we find that they are super ugly."
   ]
  },
  {
   "cell_type": "code",
   "execution_count": 27,
   "metadata": {},
   "outputs": [
    {
     "name": "stdout",
     "output_type": "stream",
     "text": [
      "<__main__.Person object at 0x108a734d0>\n"
     ]
    }
   ],
   "source": [
    "print(p)  # Person"
   ]
  },
  {
   "cell_type": "code",
   "execution_count": 28,
   "metadata": {},
   "outputs": [
    {
     "name": "stdout",
     "output_type": "stream",
     "text": [
      "<__main__.Cellphone object at 0x108a73620>\n"
     ]
    }
   ],
   "source": [
    "print(c1)"
   ]
  },
  {
   "cell_type": "code",
   "execution_count": 29,
   "metadata": {},
   "outputs": [
    {
     "name": "stdout",
     "output_type": "stream",
     "text": [
      "<__main__.Cellphone object at 0x108a9f250>\n"
     ]
    }
   ],
   "source": [
    "print(c2)"
   ]
  },
  {
   "cell_type": "markdown",
   "metadata": {},
   "source": [
    "What's happening here?\n",
    "\n",
    "We can actually use `print` on any object in Python. That's because `print` invokes `str` on whatever it's going to print. And everything in Python knows how to turn itself into a string.\n",
    "\n",
    "How does the object know how to turn itself into a string? Because there is a default implementation of the `__str__` method that is shared by all objects. If we do nothing, then every object that doesn't have a special way to display itself will use this ugly way.\n",
    "\n",
    "But this also explains what we can do to change things: If we implement `__str__` on our object, then our method will be invoked instead of the default, and then we can customize what string is returned. Note that `__str__` *must* return a string! But the string you do return can be anything at all."
   ]
  },
  {
   "cell_type": "code",
   "execution_count": 33,
   "metadata": {},
   "outputs": [
    {
     "name": "stdout",
     "output_type": "stream",
     "text": [
      "Person with name = Reuven!\n"
     ]
    }
   ],
   "source": [
    "class Person:\n",
    "    def __init__(self, name):\n",
    "        self.name = name\n",
    "    def __len__(self):\n",
    "        return len(self.name)\n",
    "    def __str__(self):\n",
    "        return f'Person with name = {self.name}!'\n",
    "\n",
    "p = Person('Reuven')\n",
    "print(p)  # -> print(str(p)) -> print(p.__str__())"
   ]
  },
  {
   "cell_type": "code",
   "execution_count": 34,
   "metadata": {},
   "outputs": [
    {
     "data": {
      "text/plain": [
       "'Person with name = Reuven!'"
      ]
     },
     "execution_count": 34,
     "metadata": {},
     "output_type": "execute_result"
    }
   ],
   "source": [
    "str(p)  # invoke str on p, what do I get back?"
   ]
  },
  {
   "cell_type": "markdown",
   "metadata": {},
   "source": [
    "# Exercise: Printable scoops\n",
    "\n",
    "1. Modify the `Scoop` class such that printing a scoop gives us a string, \"Scoop of FLAVOR\".\n",
    "2. Make sure that this works by printing a number of scoops.\n"
   ]
  },
  {
   "cell_type": "code",
   "execution_count": 36,
   "metadata": {},
   "outputs": [
    {
     "name": "stdout",
     "output_type": "stream",
     "text": [
      "['chocolate', 'vanilla', 'coffee']\n",
      "3\n",
      "Scoop of chocolate\n",
      "Scoop of vanilla\n",
      "Scoop of coffee\n"
     ]
    }
   ],
   "source": [
    "class Scoop:\n",
    "    def __init__(self, flavor):\n",
    "        self.flavor = flavor\n",
    "    def __str__(self):\n",
    "        return f'Scoop of {self.flavor}'\n",
    "\n",
    "s1 = Scoop('chocolate')\n",
    "s2 = Scoop('vanilla')\n",
    "s3 = Scoop('coffee')\n",
    "    \n",
    "class Bowl:\n",
    "    def __init__(self):\n",
    "        self.scoops = []\n",
    "\n",
    "    def add_scoop(self, new_scoop):\n",
    "        self.scoops.append(new_scoop)\n",
    "\n",
    "    def add_scoops(self, *new_scoops):\n",
    "        for one_scoop in new_scoops:    # iterate over the list of scoops\n",
    "            self.add_scoop(one_scoop)   # invoke self.add_scoop for each one, one at a time\n",
    "\n",
    "    def flavors(self):\n",
    "        output = []\n",
    "\n",
    "        for one_scoop in self.scoops:\n",
    "            output.append(one_scoop.flavor)\n",
    "\n",
    "        return output\n",
    "\n",
    "    def __len__(self):\n",
    "        return len(self.scoops)\n",
    "\n",
    "b = Bowl()   \n",
    "b.add_scoops(s1, s2, s3)   # removed square brackets, so we're invoking it with 3 arguments\n",
    "list_of_flavors = b.flavors()\n",
    "print(list_of_flavors)     # print forwards\n",
    "\n",
    "print(len(b))\n",
    "\n",
    "print(s1)  \n",
    "print(s2)\n",
    "print(s3)"
   ]
  },
  {
   "cell_type": "markdown",
   "metadata": {},
   "source": [
    "# Exercise: Printable *bowls*\n",
    "\n",
    "1. Now I want you to make it possible to say `print(b)`, where `b` is an instance of `Bowl`. Doing so should display \"Bowl with:\" and then each of the scoops on a line by itself.\n",
    "2. (If you can number the scoops, even better, but don't worry about it too much.)\n",
    "3. The printout for each of the scoops can be the result of invoking `str(a_scoop)`."
   ]
  },
  {
   "cell_type": "code",
   "execution_count": 43,
   "metadata": {},
   "outputs": [
    {
     "name": "stdout",
     "output_type": "stream",
     "text": [
      "['chocolate', 'vanilla', 'coffee']\n",
      "3\n",
      "Scoop of chocolate\n",
      "Scoop of vanilla\n",
      "Scoop of coffee\n",
      "*** Now printing the bowl ***\n",
      "Bowl of: \n",
      "\t1: Scoop of chocolate\n",
      "\t2: Scoop of vanilla\n",
      "\t3: Scoop of coffee\n",
      "\n"
     ]
    }
   ],
   "source": [
    "class Scoop:\n",
    "    def __init__(self, flavor):\n",
    "        self.flavor = flavor\n",
    "    def __str__(self):\n",
    "        return f'Scoop of {self.flavor}'\n",
    "\n",
    "s1 = Scoop('chocolate')\n",
    "s2 = Scoop('vanilla')\n",
    "s3 = Scoop('coffee')\n",
    "    \n",
    "class Bowl:\n",
    "    def __init__(self):\n",
    "        self.scoops = []\n",
    "\n",
    "    def add_scoop(self, new_scoop):\n",
    "        self.scoops.append(new_scoop)\n",
    "\n",
    "    def add_scoops(self, *new_scoops):\n",
    "        for one_scoop in new_scoops:    # iterate over the list of scoops\n",
    "            self.add_scoop(one_scoop)   # invoke self.add_scoop for each one, one at a time\n",
    "\n",
    "    def flavors(self):\n",
    "        output = []\n",
    "\n",
    "        for one_scoop in self.scoops:\n",
    "            output.append(one_scoop.flavor)\n",
    "\n",
    "        return output\n",
    "\n",
    "    def __len__(self):\n",
    "        return len(self.scoops)\n",
    "\n",
    "    def __str__(self):\n",
    "        output = 'Bowl of: \\n'\n",
    "\n",
    "        for index, one_scoop in enumerate(self.scoops, 1):\n",
    "            output += f'\\t{index}: {one_scoop}\\n'\n",
    "        \n",
    "        return output\n",
    "\n",
    "b = Bowl()   \n",
    "b.add_scoops(s1, s2, s3)   # removed square brackets, so we're invoking it with 3 arguments\n",
    "list_of_flavors = b.flavors()\n",
    "\n",
    "print(list_of_flavors)     # print forwards\n",
    "\n",
    "print(len(b))\n",
    "\n",
    "print(s1)  \n",
    "print(s2)\n",
    "print(s3)\n",
    "\n",
    "print('*** Now printing the bowl ***')\n",
    "print(b)  "
   ]
  },
  {
   "cell_type": "code",
   "execution_count": null,
   "metadata": {},
   "outputs": [],
   "source": []
  }
 ],
 "metadata": {
  "kernelspec": {
   "display_name": "Python 3 (ipykernel)",
   "language": "python",
   "name": "python3"
  },
  "language_info": {
   "codemirror_mode": {
    "name": "ipython",
    "version": 3
   },
   "file_extension": ".py",
   "mimetype": "text/x-python",
   "name": "python",
   "nbconvert_exporter": "python",
   "pygments_lexer": "ipython3",
   "version": "3.13.9"
  }
 },
 "nbformat": 4,
 "nbformat_minor": 4
}
