{
 "cells": [
  {
   "cell_type": "markdown",
   "metadata": {},
   "source": [
    "# Agenda\n",
    "\n",
    "1. Intro to objects\n",
    "    - What are objects?\n",
    "    - In Python, everything is an object -- so what?\n",
    "    - Creating your own data structures (in general)\n",
    "    - Creating your own classes (i.e., new types of data, new object types)\n",
    "    - What happens when you create a new object?\n",
    "    - Complex objects and composition\n",
    "    - Attributes in our objects\n",
    "2. Methods\n",
    "    - Using methods\n",
    "    - Writing methods\n",
    "    - The `self` parameter in methods\n",
    "    - Other parameters and passing arguments to them\n",
    "3. Tomorrow:\n",
    "    - Class attributes\n",
    "    - Inheritance\n",
    "    - How objects really work behind the scenes\n",
    "    - Dunder (\"magic\") methods that let us customize our objects"
   ]
  },
  {
   "cell_type": "markdown",
   "metadata": {},
   "source": [
    "# What are objects?\n",
    "\n",
    "Software has always been hard to write, and even harder to maintain. When people came up with higher-level languages, they thought that things would get easier.\n",
    "\n",
    "In the 1970s, people were overwhelmed by software and its complexity -- especially when they wanted to maintain/debug/change software. They wanted a new way to write code that would make it easier to understand and maintain.\n",
    "\n",
    "Alan Kay, working at Xerox PARC, designed a new programming language called Smalltalk. Smalltalk used \"objects.\" What did that mean?\n",
    "\n",
    "Kay talked about the human body and biological systems as being hugely complex and yet working well. This happens because the body is divided into many cells. Each cell has a different type -- nerve cells, skin cells, fat cells, muscle cells. Each type of cell sends and receives different types of messages.\n",
    "\n",
    "Smalltalk was designed such that each type of data you wanted to work with had a \"type\" that determined what messages it would send and receive. The messages were known as \"methods,\" but they were really glorified function calls. The idea was that you could know what types of messages were sent and received by a particular piece of data, based on its type.\n",
    "\n",
    "The idea:\n",
    "\n",
    "- Instead of cells, we have objects\n",
    "- Instead of types of cells, we have classes\n",
    "- Instead of messages, we have methods\n",
    "\n",
    "These terms are hard for people, because they are different from the rest of programming. Nearly every programming language today uses objects in some way or another. \n",
    "\n",
    "Why do we need objects? To make our code easier to understand, read, and write. It's really a system for packaging our software, so that it's easier to do those things.\n",
    "\n",
    "There are still object skeptics, who say that there really isn't any huge advantage in using them. But most programmers and most languages are pushing us to use objects, because they can make things easier to build and maintain."
   ]
  },
  {
   "cell_type": "code",
   "execution_count": null,
   "metadata": {},
   "outputs": [],
   "source": []
  }
 ],
 "metadata": {
  "kernelspec": {
   "display_name": "Python 3 (ipykernel)",
   "language": "python",
   "name": "python3"
  },
  "language_info": {
   "codemirror_mode": {
    "name": "ipython",
    "version": 3
   },
   "file_extension": ".py",
   "mimetype": "text/x-python",
   "name": "python",
   "nbconvert_exporter": "python",
   "pygments_lexer": "ipython3",
   "version": "3.13.9"
  }
 },
 "nbformat": 4,
 "nbformat_minor": 4
}
