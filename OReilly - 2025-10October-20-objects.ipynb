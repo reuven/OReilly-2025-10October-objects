{
 "cells": [
  {
   "cell_type": "markdown",
   "metadata": {},
   "source": [
    "# Agenda\n",
    "\n",
    "1. Intro to objects\n",
    "    - What are objects?\n",
    "    - In Python, everything is an object -- so what?\n",
    "    - Creating your own data structures (in general)\n",
    "    - Creating your own classes (i.e., new types of data, new object types)\n",
    "    - What happens when you create a new object?\n",
    "    - Complex objects and composition\n",
    "    - Attributes in our objects\n",
    "2. Methods\n",
    "    - Using methods\n",
    "    - Writing methods\n",
    "    - The `self` parameter in methods\n",
    "    - Other parameters and passing arguments to them\n",
    "3. Tomorrow:\n",
    "    - Class attributes\n",
    "    - Inheritance\n",
    "    - How objects really work behind the scenes\n",
    "    - Dunder (\"magic\") methods that let us customize our objects"
   ]
  },
  {
   "cell_type": "markdown",
   "metadata": {},
   "source": [
    "# What are objects?\n",
    "\n",
    "Software has always been hard to write, and even harder to maintain. When people came up with higher-level languages, they thought that things would get easier.\n",
    "\n",
    "In the 1970s, people were overwhelmed by software and its complexity -- especially when they wanted to maintain/debug/change software. They wanted a new way to write code that would make it easier to understand and maintain.\n",
    "\n",
    "Alan Kay, work"
   ]
  }
 ],
 "metadata": {
  "kernelspec": {
   "display_name": "Python 3 (ipykernel)",
   "language": "python",
   "name": "python3"
  },
  "language_info": {
   "codemirror_mode": {
    "name": "ipython",
    "version": 3
   },
   "file_extension": ".py",
   "mimetype": "text/x-python",
   "name": "python",
   "nbconvert_exporter": "python",
   "pygments_lexer": "ipython3",
   "version": "3.13.9"
  }
 },
 "nbformat": 4,
 "nbformat_minor": 4
}
